{
 "cells": [
  {
   "cell_type": "markdown",
   "metadata": {},
   "source": [
    "<div style=\"text-align: center; font-size: 30px; font-weight: bold; padding:20px\">University of London: BSc Computer Science (Final Project)</div>\n",
    "<div style=\"text-align: center; font-size: 30px; margin-top: 10px;\">Using Neural Network based Graph Model for Alzhiemer's Classification</div>\n",
    "<br>\n",
    "<div style=\"text-align: center; font-size: 20px; margin-top: 10px;\">Pragya Modi</div>\n",
    "<div style=\"text-align: center; font-size: 20px; margin-top: 15px;\">190308090</div>"
   ]
  },
  {
   "cell_type": "markdown",
   "metadata": {},
   "source": [
    "<div style=\"font-size: 70px; font-weight: bold; border-bottom: 6px solid black; padding-bottom:20px \">2.Graph Model: Beating the Baseline and Over-fitting</div>\n",
    "\n",
    "\n",
    "<div style=\"font-size: 30px; padding:10px\">\n",
    "<h1>2.1 Overview</h1>\n",
    "\n",
    "<p>\n",
    "This project follows the Universal Workflow of Machine Learning (UWML) as defined in the Deep Learning with Python Book <code>[1]</code>.\n",
    "\n",
    "In the previous notebook, the first few sections: identifying the problem and preparing the dataset were covered. \n",
    "\n",
    "This notebook covers the following steps from the workflow: establishing a baseline, building a model that beats the baseline, and building a model that overfits.\n",
    "</p>\n",
    "\n",
    "<div style=\"font-size: 30px; padding:10px\">\n",
    "<h1>2.2 Establishing Baseline</h1>\n",
    "</div>\n",
    "\n",
    "As seen in the earlier notebook, the data is not equally balanced. There are 2319 rows in `no dementia` class and 1695 rows in `dementia category`. From this division, it can be seen that 57.77% of the data falling in the `no dementia ` category. Hence, the random baseline is `57.77%`\n"
   ]
  },
  {
   "cell_type": "markdown",
   "metadata": {},
   "source": [
    "<div style=\"font-size: 30px; padding:10px\">\n",
    "<h1>2.3 Splitting the Data</h1>\n",
    "</div>"
   ]
  },
  {
   "cell_type": "code",
   "execution_count": 1,
   "metadata": {},
   "outputs": [],
   "source": [
    "# imports\n",
    "import tensorflow as tf\n",
    "from tensorflow.keras import layers, utils\n",
    "from matplotlib import pyplot as plt\n",
    "import os, shutil, pathlib\n",
    "from tensorflow import keras\n",
    "import numpy as np\n",
    "\n",
    "import helpers"
   ]
  },
  {
   "cell_type": "code",
   "execution_count": 2,
   "metadata": {},
   "outputs": [
    {
     "name": "stderr",
     "output_type": "stream",
     "text": [
      "2022-09-01 04:51:18.610401: I tensorflow/core/common_runtime/pluggable_device/pluggable_device_factory.cc:305] Could not identify NUMA node of platform GPU ID 0, defaulting to 0. Your kernel may not have been built with NUMA support.\n",
      "2022-09-01 04:51:18.610521: I tensorflow/core/common_runtime/pluggable_device/pluggable_device_factory.cc:271] Created TensorFlow device (/job:localhost/replica:0/task:0/device:GPU:0 with 0 MB memory) -> physical PluggableDevice (device: 0, name: METAL, pci bus id: <undefined>)\n",
      "2022-09-01 04:51:18.630011: W tensorflow/core/platform/profile_utils/cpu_utils.cc:128] Failed to get CPU frequency: 0 Hz\n"
     ]
    },
    {
     "name": "stdout",
     "output_type": "stream",
     "text": [
      "Metal device set to: Apple M1 Pro\n",
      "\n",
      "systemMemory: 16.00 GB\n",
      "maxCacheSize: 5.33 GB\n",
      "\n",
      "4014\n"
     ]
    }
   ],
   "source": [
    "# load the tensorflow dataset\n",
    "dataset = tf.data.experimental.load('../data/tfdataset/final_dataset.tfrecords.gz', compression='GZIP')\n",
    "\n",
    "# print the size of the dataset\n",
    "dataset_size = 0\n",
    "for _ in dataset: dataset_size += 1\n",
    "print(dataset_size)\n",
    "\n",
    "# define the train, val, and test split ratios\n",
    "train_size = int(0.6 * dataset_size)\n",
    "val_size = int(0.15 * dataset_size)\n",
    "\n",
    "# shuffle the dataset\n",
    "dataset = dataset.shuffle(buffer_size=dataset_size)\n",
    "\n",
    "# use the helper function to split the dataset\n",
    "train_dataset, val_dataset, test_dataset = helpers.split_data(dataset, train_size, val_size)"
   ]
  },
  {
   "cell_type": "markdown",
   "metadata": {},
   "source": [
    "<div style=\"font-size: 30px; padding:10px\">\n",
    "<h1>2.4 Model that Beats Baseline</h1>\n",
    "\n",
    "<p>The baseline model is built with the aim of testing the statistical power of a deep learning model. As outlined earlier, the random baseline for the OASIS3 dataset <code>[2]</code> is 57.77%. The baseline model built gives the highest accuracy of <code>72.43%</code>, which beats the baseline. <p>\n",
    "</div>"
   ]
  },
  {
   "cell_type": "code",
   "execution_count": 3,
   "metadata": {},
   "outputs": [
    {
     "name": "stdout",
     "output_type": "stream",
     "text": [
      "Model: \"model\"\n",
      "__________________________________________________________________________________________________\n",
      " Layer (type)                   Output Shape         Param #     Connected to                     \n",
      "==================================================================================================\n",
      " images (InputLayer)            [(None, 128, 128, 1  0           []                               \n",
      "                                )]                                                                \n",
      "                                                                                                  \n",
      " conv2d (Conv2D)                (None, 126, 126, 32  320         ['images[0][0]']                 \n",
      "                                )                                                                 \n",
      "                                                                                                  \n",
      " max_pooling2d (MaxPooling2D)   (None, 63, 63, 32)   0           ['conv2d[0][0]']                 \n",
      "                                                                                                  \n",
      " features (InputLayer)          [(None, 7)]          0           []                               \n",
      "                                                                                                  \n",
      " conv2d_1 (Conv2D)              (None, 61, 61, 64)   18496       ['max_pooling2d[0][0]']          \n",
      "                                                                                                  \n",
      " dense (Dense)                  (None, 64)           512         ['features[0][0]']               \n",
      "                                                                                                  \n",
      " global_average_pooling2d (Glob  (None, 64)          0           ['conv2d_1[0][0]']               \n",
      " alAveragePooling2D)                                                                              \n",
      "                                                                                                  \n",
      " dense_1 (Dense)                (None, 32)           2080        ['dense[0][0]']                  \n",
      "                                                                                                  \n",
      " concatenate (Concatenate)      (None, 96)           0           ['global_average_pooling2d[0][0]'\n",
      "                                                                 , 'dense_1[0][0]']               \n",
      "                                                                                                  \n",
      " dense_2 (Dense)                (None, 32)           3104        ['concatenate[0][0]']            \n",
      "                                                                                                  \n",
      " dense_3 (Dense)                (None, 1)            33          ['dense_2[0][0]']                \n",
      "                                                                                                  \n",
      "==================================================================================================\n",
      "Total params: 24,545\n",
      "Trainable params: 24,545\n",
      "Non-trainable params: 0\n",
      "__________________________________________________________________________________________________\n",
      "Epoch 1/10\n"
     ]
    },
    {
     "name": "stderr",
     "output_type": "stream",
     "text": [
      "2022-09-01 04:51:20.219505: I tensorflow/core/grappler/optimizers/custom_graph_optimizer_registry.cc:113] Plugin optimizer for device_type GPU is enabled.\n"
     ]
    },
    {
     "name": "stdout",
     "output_type": "stream",
     "text": [
      "298/301 [============================>.] - ETA: 0s - loss: 0.7386 - accuracy: 0.5680"
     ]
    },
    {
     "name": "stderr",
     "output_type": "stream",
     "text": [
      "2022-09-01 04:51:25.790860: I tensorflow/core/grappler/optimizers/custom_graph_optimizer_registry.cc:113] Plugin optimizer for device_type GPU is enabled.\n"
     ]
    },
    {
     "name": "stdout",
     "output_type": "stream",
     "text": [
      "301/301 [==============================] - 7s 19ms/step - loss: 0.7385 - accuracy: 0.5664 - val_loss: 0.6817 - val_accuracy: 0.5781\n",
      "Epoch 2/10\n",
      "301/301 [==============================] - 4s 15ms/step - loss: 0.6654 - accuracy: 0.6125 - val_loss: 0.6685 - val_accuracy: 0.5997\n",
      "Epoch 3/10\n",
      "301/301 [==============================] - 5s 18ms/step - loss: 0.6519 - accuracy: 0.6292 - val_loss: 0.6529 - val_accuracy: 0.6346\n",
      "Epoch 4/10\n",
      "301/301 [==============================] - 4s 14ms/step - loss: 0.6450 - accuracy: 0.6329 - val_loss: 0.6236 - val_accuracy: 0.6694\n",
      "Epoch 5/10\n",
      "301/301 [==============================] - 4s 15ms/step - loss: 0.6376 - accuracy: 0.6416 - val_loss: 0.6556 - val_accuracy: 0.6229\n",
      "Epoch 6/10\n",
      "301/301 [==============================] - 4s 14ms/step - loss: 0.6340 - accuracy: 0.6424 - val_loss: 0.6014 - val_accuracy: 0.6860\n",
      "Epoch 7/10\n",
      "301/301 [==============================] - 4s 15ms/step - loss: 0.6251 - accuracy: 0.6528 - val_loss: 0.6212 - val_accuracy: 0.6694\n",
      "Epoch 8/10\n",
      "301/301 [==============================] - 5s 15ms/step - loss: 0.6202 - accuracy: 0.6549 - val_loss: 0.5894 - val_accuracy: 0.7027\n",
      "Epoch 9/10\n",
      "301/301 [==============================] - 4s 15ms/step - loss: 0.6156 - accuracy: 0.6640 - val_loss: 0.5732 - val_accuracy: 0.7226\n",
      "Epoch 10/10\n",
      "301/301 [==============================] - 4s 15ms/step - loss: 0.6126 - accuracy: 0.6682 - val_loss: 0.5735 - val_accuracy: 0.7243\n"
     ]
    },
    {
     "data": {
      "image/png": "[encoded data removed]",
      "text/plain": [
       "<Figure size 432x288 with 1 Axes>"
      ]
     },
     "metadata": {
      "needs_background": "light"
     },
     "output_type": "display_data"
    },
    {
     "data": {
      "image/png": "[encoded data removed]",
      "text/plain": [
       "<Figure size 432x288 with 1 Axes>"
      ]
     },
     "metadata": {
      "needs_background": "light"
     },
     "output_type": "display_data"
    },
    {
     "data": {
      "text/plain": [
       "(<keras.callbacks.History at 0x163488fa0>,\n",
       " <keras.engine.functional.Functional at 0x164d10dc0>)"
      ]
     },
     "execution_count": 3,
     "metadata": {},
     "output_type": "execute_result"
    }
   ],
   "source": [
    "image_input = keras.Input(shape=(128, 128, 1), name='images')\n",
    "feature_input = keras.Input(shape=(7), name='features')\n",
    "\n",
    "x = layers.Conv2D(filters=32, kernel_size=3, activation=\"relu\")(image_input)\n",
    "x = layers.MaxPooling2D(pool_size=2)(x)\n",
    "x = layers.Conv2D(filters=64, kernel_size=3, activation=\"relu\")(x)\n",
    "x = layers.GlobalAveragePooling2D()(x)\n",
    "\n",
    "y = layers.Dense(64, activation=\"relu\")(feature_input)\n",
    "y = layers.Dense(32, activation=\"relu\")(y)\n",
    "\n",
    "z = layers.Concatenate()([x, y])\n",
    "z = layers.Dense(32, activation=\"relu\")(z)\n",
    "z = layers.Dense(1, activation=\"sigmoid\")(z)\n",
    "\n",
    "helpers.run_model(\n",
    "    [image_input, feature_input],\n",
    "    z,\n",
    "    train_dataset,\n",
    "    val_dataset,\n",
    "    epochs=10,\n",
    ")"
   ]
  },
  {
   "cell_type": "markdown",
   "metadata": {},
   "source": [
    "<div style=\"font-size: 30px; padding:10px\">\n",
    "<h1>2.5 Building a Model that Overfits</h1>\n",
    "\n",
    "<p>To build a model that overfits, Chollet <code>[1]</code> suggests using three techniques: increasing number of layers, increasing the number of epochs, and increasing the size of the layers. This model uses all three techniques.\n",
    "</p>\n",
    "\n",
    "<p>\n",
    "From the graph in the cell below, it can be seen that on most points after 20 epochs, the validation accuracy is significantly lower than the train accuracy. This shows that the model overfits.  </p>\n",
    "</div>"
   ]
  },
  {
   "cell_type": "code",
   "execution_count": 4,
   "metadata": {},
   "outputs": [
    {
     "name": "stdout",
     "output_type": "stream",
     "text": [
      "Model: \"model_1\"\n",
      "__________________________________________________________________________________________________\n",
      " Layer (type)                   Output Shape         Param #     Connected to                     \n",
      "==================================================================================================\n",
      " images (InputLayer)            [(None, 128, 128, 1  0           []                               \n",
      "                                )]                                                                \n",
      "                                                                                                  \n",
      " conv2d_2 (Conv2D)              (None, 126, 126, 64  640         ['images[0][0]']                 \n",
      "                                )                                                                 \n",
      "                                                                                                  \n",
      " max_pooling2d_1 (MaxPooling2D)  (None, 63, 63, 64)  0           ['conv2d_2[0][0]']               \n",
      "                                                                                                  \n",
      " conv2d_3 (Conv2D)              (None, 61, 61, 128)  73856       ['max_pooling2d_1[0][0]']        \n",
      "                                                                                                  \n",
      " features (InputLayer)          [(None, 7)]          0           []                               \n",
      "                                                                                                  \n",
      " max_pooling2d_2 (MaxPooling2D)  (None, 30, 30, 128)  0          ['conv2d_3[0][0]']               \n",
      "                                                                                                  \n",
      " dense_4 (Dense)                (None, 256)          2048        ['features[0][0]']               \n",
      "                                                                                                  \n",
      " conv2d_4 (Conv2D)              (None, 28, 28, 256)  295168      ['max_pooling2d_2[0][0]']        \n",
      "                                                                                                  \n",
      " dense_5 (Dense)                (None, 128)          32896       ['dense_4[0][0]']                \n",
      "                                                                                                  \n",
      " global_average_pooling2d_1 (Gl  (None, 256)         0           ['conv2d_4[0][0]']               \n",
      " obalAveragePooling2D)                                                                            \n",
      "                                                                                                  \n",
      " dense_6 (Dense)                (None, 64)           8256        ['dense_5[0][0]']                \n",
      "                                                                                                  \n",
      " concatenate_1 (Concatenate)    (None, 320)          0           ['global_average_pooling2d_1[0][0\n",
      "                                                                 ]',                              \n",
      "                                                                  'dense_6[0][0]']                \n",
      "                                                                                                  \n",
      " dense_7 (Dense)                (None, 256)          82176       ['concatenate_1[0][0]']          \n",
      "                                                                                                  \n",
      " dense_8 (Dense)                (None, 128)          32896       ['dense_7[0][0]']                \n",
      "                                                                                                  \n",
      " dense_9 (Dense)                (None, 64)           8256        ['dense_8[0][0]']                \n",
      "                                                                                                  \n",
      " dense_10 (Dense)               (None, 1)            65          ['dense_9[0][0]']                \n",
      "                                                                                                  \n",
      "==================================================================================================\n",
      "Total params: 536,257\n",
      "Trainable params: 536,257\n",
      "Non-trainable params: 0\n",
      "__________________________________________________________________________________________________\n",
      "Epoch 1/100\n"
     ]
    },
    {
     "name": "stderr",
     "output_type": "stream",
     "text": [
      "2022-09-01 04:52:08.377756: I tensorflow/core/grappler/optimizers/custom_graph_optimizer_registry.cc:113] Plugin optimizer for device_type GPU is enabled.\n"
     ]
    },
    {
     "name": "stdout",
     "output_type": "stream",
     "text": [
      "300/301 [============================>.] - ETA: 0s - loss: 0.8228 - accuracy: 0.5508"
     ]
    },
    {
     "name": "stderr",
     "output_type": "stream",
     "text": [
      "2022-09-01 04:52:20.849094: I tensorflow/core/grappler/optimizers/custom_graph_optimizer_registry.cc:113] Plugin optimizer for device_type GPU is enabled.\n"
     ]
    },
    {
     "name": "stdout",
     "output_type": "stream",
     "text": [
      "301/301 [==============================] - 14s 42ms/step - loss: 0.8226 - accuracy: 0.5498 - val_loss: 0.6849 - val_accuracy: 0.6080\n",
      "Epoch 2/100\n",
      "301/301 [==============================] - 12s 41ms/step - loss: 0.6953 - accuracy: 0.5640 - val_loss: 0.6776 - val_accuracy: 0.6196\n",
      "Epoch 3/100\n",
      "301/301 [==============================] - 12s 41ms/step - loss: 0.6855 - accuracy: 0.5814 - val_loss: 0.6702 - val_accuracy: 0.6113\n",
      "Epoch 4/100\n",
      "301/301 [==============================] - 12s 40ms/step - loss: 0.6737 - accuracy: 0.6030 - val_loss: 0.6360 - val_accuracy: 0.6711\n",
      "Epoch 5/100\n",
      "301/301 [==============================] - 12s 41ms/step - loss: 0.6678 - accuracy: 0.6167 - val_loss: 0.6322 - val_accuracy: 0.6794\n",
      "Epoch 6/100\n",
      "301/301 [==============================] - 12s 40ms/step - loss: 0.6506 - accuracy: 0.6300 - val_loss: 0.6400 - val_accuracy: 0.6844\n",
      "Epoch 7/100\n",
      "301/301 [==============================] - 12s 40ms/step - loss: 0.6423 - accuracy: 0.6424 - val_loss: 0.6551 - val_accuracy: 0.5980\n",
      "Epoch 8/100\n",
      "301/301 [==============================] - 12s 41ms/step - loss: 0.6382 - accuracy: 0.6458 - val_loss: 0.6109 - val_accuracy: 0.7010\n",
      "Epoch 9/100\n",
      "301/301 [==============================] - 12s 40ms/step - loss: 0.6302 - accuracy: 0.6595 - val_loss: 0.6059 - val_accuracy: 0.6960\n",
      "Epoch 10/100\n",
      "301/301 [==============================] - 12s 40ms/step - loss: 0.6328 - accuracy: 0.6632 - val_loss: 0.5925 - val_accuracy: 0.7093\n",
      "Epoch 11/100\n",
      "301/301 [==============================] - 12s 41ms/step - loss: 0.6230 - accuracy: 0.6645 - val_loss: 0.5828 - val_accuracy: 0.7027\n",
      "Epoch 12/100\n",
      "301/301 [==============================] - 13s 42ms/step - loss: 0.6170 - accuracy: 0.6723 - val_loss: 0.5936 - val_accuracy: 0.6877\n",
      "Epoch 13/100\n",
      "301/301 [==============================] - 12s 39ms/step - loss: 0.6894 - accuracy: 0.6736 - val_loss: 0.6158 - val_accuracy: 0.7110\n",
      "Epoch 14/100\n",
      "301/301 [==============================] - 12s 39ms/step - loss: 0.6244 - accuracy: 0.6765 - val_loss: 0.5676 - val_accuracy: 0.7126\n",
      "Epoch 15/100\n",
      "301/301 [==============================] - 12s 39ms/step - loss: 0.6338 - accuracy: 0.6794 - val_loss: 0.5937 - val_accuracy: 0.6977\n",
      "Epoch 16/100\n",
      "301/301 [==============================] - 12s 39ms/step - loss: 0.6065 - accuracy: 0.6723 - val_loss: 0.5524 - val_accuracy: 0.7458\n",
      "Epoch 17/100\n",
      "301/301 [==============================] - 12s 39ms/step - loss: 0.6270 - accuracy: 0.6873 - val_loss: 0.5737 - val_accuracy: 0.7193\n",
      "Epoch 18/100\n",
      "301/301 [==============================] - 12s 39ms/step - loss: 0.5982 - accuracy: 0.6919 - val_loss: 0.5367 - val_accuracy: 0.7508\n",
      "Epoch 19/100\n",
      "301/301 [==============================] - 12s 39ms/step - loss: 0.6849 - accuracy: 0.6973 - val_loss: 0.5606 - val_accuracy: 0.7243\n",
      "Epoch 20/100\n",
      "301/301 [==============================] - 12s 40ms/step - loss: 0.6060 - accuracy: 0.6985 - val_loss: 0.5815 - val_accuracy: 0.6894\n",
      "Epoch 21/100\n",
      "301/301 [==============================] - 12s 39ms/step - loss: 0.6438 - accuracy: 0.6977 - val_loss: 0.5688 - val_accuracy: 0.7093\n",
      "Epoch 22/100\n",
      "301/301 [==============================] - 12s 39ms/step - loss: 0.5934 - accuracy: 0.7031 - val_loss: 0.5978 - val_accuracy: 0.7060\n",
      "Epoch 23/100\n",
      "301/301 [==============================] - 12s 40ms/step - loss: 0.6000 - accuracy: 0.7051 - val_loss: 0.5756 - val_accuracy: 0.7060\n",
      "Epoch 24/100\n",
      "301/301 [==============================] - 12s 39ms/step - loss: 0.6089 - accuracy: 0.7151 - val_loss: 0.5578 - val_accuracy: 0.7292\n",
      "Epoch 25/100\n",
      "301/301 [==============================] - 12s 39ms/step - loss: 0.6120 - accuracy: 0.7093 - val_loss: 0.7679 - val_accuracy: 0.6429\n",
      "Epoch 26/100\n",
      "301/301 [==============================] - 12s 39ms/step - loss: 0.6288 - accuracy: 0.7147 - val_loss: 0.5322 - val_accuracy: 0.7442\n",
      "Epoch 27/100\n",
      "301/301 [==============================] - 12s 39ms/step - loss: 0.5977 - accuracy: 0.7105 - val_loss: 0.5302 - val_accuracy: 0.7276\n",
      "Epoch 28/100\n",
      "301/301 [==============================] - 12s 39ms/step - loss: 0.6148 - accuracy: 0.7097 - val_loss: 0.5423 - val_accuracy: 0.7392\n",
      "Epoch 29/100\n",
      "301/301 [==============================] - 12s 39ms/step - loss: 0.5829 - accuracy: 0.7189 - val_loss: 0.5610 - val_accuracy: 0.7226\n",
      "Epoch 30/100\n",
      "301/301 [==============================] - 12s 39ms/step - loss: 0.6006 - accuracy: 0.7056 - val_loss: 0.5252 - val_accuracy: 0.7542\n",
      "Epoch 31/100\n",
      "301/301 [==============================] - 12s 39ms/step - loss: 0.6618 - accuracy: 0.7168 - val_loss: 0.5050 - val_accuracy: 0.7359\n",
      "Epoch 32/100\n",
      "301/301 [==============================] - 12s 39ms/step - loss: 0.6053 - accuracy: 0.7135 - val_loss: 0.6005 - val_accuracy: 0.7143\n",
      "Epoch 33/100\n",
      "301/301 [==============================] - 12s 39ms/step - loss: 0.7040 - accuracy: 0.7313 - val_loss: 0.5482 - val_accuracy: 0.7027\n",
      "Epoch 34/100\n",
      "301/301 [==============================] - 12s 39ms/step - loss: 0.5828 - accuracy: 0.7218 - val_loss: 0.5258 - val_accuracy: 0.7442\n",
      "Epoch 35/100\n",
      "301/301 [==============================] - 12s 40ms/step - loss: 0.5801 - accuracy: 0.7301 - val_loss: 0.5663 - val_accuracy: 0.7159\n",
      "Epoch 36/100\n",
      "301/301 [==============================] - 12s 39ms/step - loss: 0.6229 - accuracy: 0.7205 - val_loss: 0.5252 - val_accuracy: 0.7309\n",
      "Epoch 37/100\n",
      "301/301 [==============================] - 12s 39ms/step - loss: 0.5773 - accuracy: 0.7288 - val_loss: 0.5837 - val_accuracy: 0.6960\n",
      "Epoch 38/100\n",
      "301/301 [==============================] - 12s 39ms/step - loss: 0.5821 - accuracy: 0.7222 - val_loss: 0.5706 - val_accuracy: 0.6645\n",
      "Epoch 39/100\n",
      "301/301 [==============================] - 12s 39ms/step - loss: 0.6066 - accuracy: 0.7276 - val_loss: 0.4958 - val_accuracy: 0.7807\n",
      "Epoch 40/100\n",
      "301/301 [==============================] - 12s 39ms/step - loss: 0.5859 - accuracy: 0.7259 - val_loss: 0.5808 - val_accuracy: 0.7093\n",
      "Epoch 41/100\n",
      "301/301 [==============================] - 12s 40ms/step - loss: 0.5638 - accuracy: 0.7297 - val_loss: 0.9062 - val_accuracy: 0.6877\n",
      "Epoch 42/100\n",
      "301/301 [==============================] - 12s 39ms/step - loss: 0.6657 - accuracy: 0.7350 - val_loss: 0.6375 - val_accuracy: 0.7375\n",
      "Epoch 43/100\n",
      "301/301 [==============================] - 12s 40ms/step - loss: 0.5908 - accuracy: 0.7396 - val_loss: 0.4881 - val_accuracy: 0.7674\n",
      "Epoch 44/100\n",
      "301/301 [==============================] - 12s 40ms/step - loss: 0.5870 - accuracy: 0.7417 - val_loss: 0.6421 - val_accuracy: 0.7126\n",
      "Epoch 45/100\n",
      "301/301 [==============================] - 12s 39ms/step - loss: 0.6098 - accuracy: 0.7288 - val_loss: 0.5158 - val_accuracy: 0.7608\n",
      "Epoch 46/100\n",
      "301/301 [==============================] - 12s 39ms/step - loss: 0.6051 - accuracy: 0.7429 - val_loss: 1.6155 - val_accuracy: 0.7558\n",
      "Epoch 47/100\n",
      "301/301 [==============================] - 12s 40ms/step - loss: 0.5861 - accuracy: 0.7400 - val_loss: 0.5355 - val_accuracy: 0.7259\n",
      "Epoch 48/100\n",
      "301/301 [==============================] - 12s 39ms/step - loss: 0.5741 - accuracy: 0.7384 - val_loss: 1.6750 - val_accuracy: 0.7542\n",
      "Epoch 49/100\n",
      "301/301 [==============================] - 12s 39ms/step - loss: 0.5966 - accuracy: 0.7488 - val_loss: 0.5196 - val_accuracy: 0.7542\n",
      "Epoch 50/100\n",
      "301/301 [==============================] - 12s 39ms/step - loss: 0.5685 - accuracy: 0.7496 - val_loss: 0.5410 - val_accuracy: 0.7342\n",
      "Epoch 51/100\n",
      "301/301 [==============================] - 12s 40ms/step - loss: 0.5760 - accuracy: 0.7471 - val_loss: 0.5098 - val_accuracy: 0.7608\n",
      "Epoch 52/100\n",
      "301/301 [==============================] - 12s 39ms/step - loss: 0.5459 - accuracy: 0.7537 - val_loss: 0.4837 - val_accuracy: 0.7542\n",
      "Epoch 53/100\n",
      "301/301 [==============================] - 12s 39ms/step - loss: 0.6238 - accuracy: 0.7500 - val_loss: 0.5336 - val_accuracy: 0.7409\n",
      "Epoch 54/100\n",
      "301/301 [==============================] - 12s 40ms/step - loss: 0.5610 - accuracy: 0.7517 - val_loss: 0.5472 - val_accuracy: 0.7027\n",
      "Epoch 55/100\n",
      "301/301 [==============================] - 12s 41ms/step - loss: 0.6273 - accuracy: 0.7471 - val_loss: 0.5013 - val_accuracy: 0.7575\n",
      "Epoch 56/100\n",
      "301/301 [==============================] - 12s 39ms/step - loss: 0.5518 - accuracy: 0.7641 - val_loss: 0.4754 - val_accuracy: 0.7525\n",
      "Epoch 57/100\n",
      "301/301 [==============================] - 12s 39ms/step - loss: 0.5400 - accuracy: 0.7633 - val_loss: 0.5315 - val_accuracy: 0.7126\n",
      "Epoch 58/100\n",
      "301/301 [==============================] - 12s 39ms/step - loss: 0.5312 - accuracy: 0.7504 - val_loss: 0.9249 - val_accuracy: 0.5797\n",
      "Epoch 59/100\n",
      "301/301 [==============================] - 12s 39ms/step - loss: 0.7383 - accuracy: 0.7496 - val_loss: 2.6904 - val_accuracy: 0.7442\n",
      "Epoch 60/100\n",
      "301/301 [==============================] - 12s 39ms/step - loss: 0.5527 - accuracy: 0.7458 - val_loss: 0.6173 - val_accuracy: 0.5980\n",
      "Epoch 61/100\n",
      "301/301 [==============================] - 12s 39ms/step - loss: 0.5456 - accuracy: 0.7384 - val_loss: 0.6164 - val_accuracy: 0.6395\n",
      "Epoch 62/100\n",
      "301/301 [==============================] - 12s 41ms/step - loss: 0.5949 - accuracy: 0.7625 - val_loss: 0.6275 - val_accuracy: 0.7043\n",
      "Epoch 63/100\n",
      "301/301 [==============================] - 12s 40ms/step - loss: 0.5729 - accuracy: 0.7488 - val_loss: 0.5183 - val_accuracy: 0.7143\n",
      "Epoch 64/100\n",
      "301/301 [==============================] - 12s 40ms/step - loss: 0.5965 - accuracy: 0.7525 - val_loss: 0.6789 - val_accuracy: 0.4684\n",
      "Epoch 65/100\n",
      "301/301 [==============================] - 12s 40ms/step - loss: 0.5905 - accuracy: 0.7492 - val_loss: 0.5207 - val_accuracy: 0.7110\n",
      "Epoch 66/100\n",
      "301/301 [==============================] - 12s 40ms/step - loss: 0.5948 - accuracy: 0.7359 - val_loss: 0.7653 - val_accuracy: 0.6894\n",
      "Epoch 67/100\n",
      "301/301 [==============================] - 12s 40ms/step - loss: 0.6229 - accuracy: 0.7687 - val_loss: 0.5335 - val_accuracy: 0.6960\n",
      "Epoch 68/100\n",
      "301/301 [==============================] - 12s 40ms/step - loss: 0.7377 - accuracy: 0.7600 - val_loss: 0.5788 - val_accuracy: 0.6462\n",
      "Epoch 69/100\n",
      "301/301 [==============================] - 12s 41ms/step - loss: 0.5645 - accuracy: 0.7546 - val_loss: 0.5055 - val_accuracy: 0.7475\n",
      "Epoch 70/100\n",
      "301/301 [==============================] - 12s 40ms/step - loss: 0.5667 - accuracy: 0.7537 - val_loss: 0.5241 - val_accuracy: 0.7326\n",
      "Epoch 71/100\n",
      "301/301 [==============================] - 12s 40ms/step - loss: 0.5495 - accuracy: 0.7641 - val_loss: 0.5731 - val_accuracy: 0.6877\n",
      "Epoch 72/100\n",
      "301/301 [==============================] - 12s 40ms/step - loss: 0.6910 - accuracy: 0.7616 - val_loss: 0.5641 - val_accuracy: 0.6794\n",
      "Epoch 73/100\n",
      "301/301 [==============================] - 12s 40ms/step - loss: 0.5704 - accuracy: 0.7650 - val_loss: 0.5736 - val_accuracy: 0.7442\n",
      "Epoch 74/100\n",
      "301/301 [==============================] - 12s 41ms/step - loss: 0.5284 - accuracy: 0.7849 - val_loss: 0.8384 - val_accuracy: 0.6163\n",
      "Epoch 75/100\n",
      "301/301 [==============================] - 12s 41ms/step - loss: 0.8859 - accuracy: 0.7737 - val_loss: 0.5908 - val_accuracy: 0.6844\n",
      "Epoch 76/100\n",
      "301/301 [==============================] - 12s 41ms/step - loss: 0.5424 - accuracy: 0.7654 - val_loss: 0.5306 - val_accuracy: 0.7292\n",
      "Epoch 77/100\n",
      "301/301 [==============================] - 12s 40ms/step - loss: 0.5912 - accuracy: 0.7741 - val_loss: 0.5488 - val_accuracy: 0.7110\n",
      "Epoch 78/100\n",
      "301/301 [==============================] - 12s 40ms/step - loss: 0.6566 - accuracy: 0.7587 - val_loss: 0.5131 - val_accuracy: 0.7508\n",
      "Epoch 79/100\n",
      "301/301 [==============================] - 12s 40ms/step - loss: 0.5305 - accuracy: 0.7716 - val_loss: 0.4713 - val_accuracy: 0.8056\n",
      "Epoch 80/100\n",
      "301/301 [==============================] - 12s 40ms/step - loss: 0.6024 - accuracy: 0.7716 - val_loss: 0.6941 - val_accuracy: 0.6130\n",
      "Epoch 81/100\n",
      "301/301 [==============================] - 12s 40ms/step - loss: 0.5416 - accuracy: 0.7612 - val_loss: 0.5168 - val_accuracy: 0.7392\n",
      "Epoch 82/100\n",
      "301/301 [==============================] - 12s 40ms/step - loss: 0.6238 - accuracy: 0.7554 - val_loss: 0.6279 - val_accuracy: 0.5764\n",
      "Epoch 83/100\n",
      "301/301 [==============================] - 12s 40ms/step - loss: 0.6001 - accuracy: 0.7197 - val_loss: 0.6672 - val_accuracy: 0.4502\n",
      "Epoch 84/100\n",
      "301/301 [==============================] - 12s 40ms/step - loss: 0.5649 - accuracy: 0.7504 - val_loss: 0.6703 - val_accuracy: 0.5797\n",
      "Epoch 85/100\n",
      "301/301 [==============================] - 12s 40ms/step - loss: 0.5804 - accuracy: 0.7583 - val_loss: 0.7351 - val_accuracy: 0.5698\n",
      "Epoch 86/100\n",
      "301/301 [==============================] - 12s 40ms/step - loss: 0.5813 - accuracy: 0.7521 - val_loss: 0.5355 - val_accuracy: 0.7674\n",
      "Epoch 87/100\n",
      "301/301 [==============================] - 12s 40ms/step - loss: 0.5612 - accuracy: 0.7579 - val_loss: 1.6785 - val_accuracy: 0.3937\n",
      "Epoch 88/100\n",
      "301/301 [==============================] - 12s 40ms/step - loss: 0.7441 - accuracy: 0.7292 - val_loss: 0.6323 - val_accuracy: 0.6678\n",
      "Epoch 89/100\n",
      "301/301 [==============================] - 12s 40ms/step - loss: 0.5912 - accuracy: 0.7488 - val_loss: 0.5732 - val_accuracy: 0.6628\n",
      "Epoch 90/100\n",
      "301/301 [==============================] - 12s 40ms/step - loss: 0.7030 - accuracy: 0.7508 - val_loss: 0.5812 - val_accuracy: 0.6113\n",
      "Epoch 91/100\n",
      "301/301 [==============================] - 12s 41ms/step - loss: 0.5893 - accuracy: 0.7583 - val_loss: 1.0949 - val_accuracy: 0.6329\n",
      "Epoch 92/100\n",
      "301/301 [==============================] - 12s 39ms/step - loss: 0.8096 - accuracy: 0.7620 - val_loss: 0.5211 - val_accuracy: 0.7425\n",
      "Epoch 93/100\n",
      "301/301 [==============================] - 12s 40ms/step - loss: 0.5872 - accuracy: 0.7708 - val_loss: 0.6360 - val_accuracy: 0.6744\n",
      "Epoch 94/100\n",
      "301/301 [==============================] - 12s 40ms/step - loss: 0.5763 - accuracy: 0.7587 - val_loss: 0.5394 - val_accuracy: 0.7060\n",
      "Epoch 95/100\n",
      "301/301 [==============================] - 12s 41ms/step - loss: 0.5166 - accuracy: 0.7720 - val_loss: 22.7397 - val_accuracy: 0.7226\n",
      "Epoch 96/100\n",
      "301/301 [==============================] - 12s 40ms/step - loss: 0.6983 - accuracy: 0.7737 - val_loss: 0.5405 - val_accuracy: 0.7126\n",
      "Epoch 97/100\n",
      "301/301 [==============================] - 12s 40ms/step - loss: 0.7036 - accuracy: 0.7375 - val_loss: 0.5446 - val_accuracy: 0.6595\n",
      "Epoch 98/100\n",
      "301/301 [==============================] - 12s 40ms/step - loss: 0.5440 - accuracy: 0.7562 - val_loss: 0.4985 - val_accuracy: 0.7741\n",
      "Epoch 99/100\n",
      "301/301 [==============================] - 12s 40ms/step - loss: 0.5331 - accuracy: 0.7575 - val_loss: 1.6005 - val_accuracy: 0.4037\n",
      "Epoch 100/100\n",
      "301/301 [==============================] - 12s 40ms/step - loss: 0.5794 - accuracy: 0.7674 - val_loss: 1.2390 - val_accuracy: 0.7392\n"
     ]
    },
    {
     "data": {
      "image/png": "[encoded data removed]",
      "text/plain": [
       "<Figure size 432x288 with 1 Axes>"
      ]
     },
     "metadata": {
      "needs_background": "light"
     },
     "output_type": "display_data"
    },
    {
     "data": {
      "image/png": "[encoded data removed]",
      "text/plain": [
       "<Figure size 432x288 with 1 Axes>"
      ]
     },
     "metadata": {
      "needs_background": "light"
     },
     "output_type": "display_data"
    }
   ],
   "source": [
    "image_input = keras.Input(shape=(128, 128, 1), name='images')\n",
    "feature_input = keras.Input(shape=(7), name='features')\n",
    "\n",
    "x = layers.Conv2D(filters=64, kernel_size=3, activation=\"relu\")(image_input)\n",
    "x = layers.MaxPooling2D(pool_size=2)(x)\n",
    "x = layers.Conv2D(filters=128, kernel_size=3, activation=\"relu\")(x)\n",
    "x = layers.MaxPooling2D(pool_size=2)(x)\n",
    "x = layers.Conv2D(filters=256, kernel_size=3, activation=\"relu\")(x)\n",
    "x = layers.GlobalAveragePooling2D()(x)\n",
    "\n",
    "y = layers.Dense(256, activation=\"relu\")(feature_input)\n",
    "y = layers.Dense(128, activation=\"relu\")(y)\n",
    "y = layers.Dense(64, activation=\"relu\")(y)\n",
    "\n",
    "z = layers.Concatenate()([x, y])\n",
    "z = layers.Dense(256, activation=\"relu\")(z)\n",
    "z = layers.Dense(128, activation=\"relu\")(z)\n",
    "z = layers.Dense(64, activation=\"relu\")(z)\n",
    "z = layers.Dense(1, activation=\"sigmoid\")(z)\n",
    "\n",
    "history, _ = helpers.run_model(\n",
    "    [image_input, feature_input],\n",
    "    z,\n",
    "    train_dataset,\n",
    "    val_dataset,\n",
    "    epochs=100,\n",
    ")"
   ]
  },
  {
   "cell_type": "code",
   "execution_count": 5,
   "metadata": {},
   "outputs": [
    {
     "data": {
      "text/plain": [
       "0.8056478500366211"
      ]
     },
     "execution_count": 5,
     "metadata": {},
     "output_type": "execute_result"
    }
   ],
   "source": [
    "# get the max accuracy from the history\n",
    "max(history.history[\"val_accuracy\"])"
   ]
  },
  {
   "cell_type": "markdown",
   "metadata": {},
   "source": [
    "<div style=\"font-size: 30px; padding:10px\">\n",
    "<h1>2.6 Model Summary</h1>\n",
    "\n",
    "<p>\n",
    "This notebook was aimed at building a model that beats the baseline and another that overfits. These models have been built successfully in this notebook. A summary for both these models is provided below. \n",
    "</p>\n",
    "\n",
    "<table>\n",
    "<thead>\n",
    "  <tr>\n",
    "    <th>Model</th>\n",
    "    <th>Validation Accuracy</th>\n",
    "  </tr>\n",
    "</thead>\n",
    "<tbody>\n",
    "  <tr>\n",
    "    <td>small_model</td>\n",
    "    <td>72.43%</td>\n",
    "  </tr>\n",
    "  <tr>\n",
    "    <td>overfit_model</td>\n",
    "    <td>80.56%</td>\n",
    "  </tr>\n",
    "</tbody>\n",
    "</table>\n",
    "\n",
    "<h1>2.7 References</h1>\n",
    "\n",
    "<p>[1] Chollet, François. Deep Learning With Python (1st ed.). </p>\n",
    "\n",
    "<br>\n",
    "\n",
    "<p>[2] Pamela J. LaMontagne, Tammie LS. Benzinger, John C. Morris, Sarah Keefe, Russ Hornbeck, Chengjie Xiong, Elizabeth Grant, Jason Hassenstab, Krista Moulder, Andrei G. Vlassenko, Marcus E. Raichle, Carlos Cruchaga, and Daniel Marcus. 2019. OASIS-3: Longitudinal Neuroimaging, Clinical, and Cognitive Dataset for Normal Aging and Alzheimer Disease. Radiology and Imaging. DOI:https://doi.org/10.1101/2019.12.13.19014902 </p>\n",
    "\n",
    "\n",
    "</div>"
   ]
  },
  {
   "cell_type": "markdown",
   "metadata": {},
   "source": [
    "----\n",
    "<div style=\"text-align: center; font-size: 30px; font-weight: bold; padding:20px\">End of File</div>\n",
    "\n",
    "----"
   ]
  }
 ],
 "metadata": {
  "kernelspec": {
   "display_name": "Python 3.9.10 ('base')",
   "language": "python",
   "name": "python3"
  },
  "language_info": {
   "codemirror_mode": {
    "name": "ipython",
    "version": 3
   },
   "file_extension": ".py",
   "mimetype": "text/x-python",
   "name": "python",
   "nbconvert_exporter": "python",
   "pygments_lexer": "ipython3",
   "version": "3.9.10"
  },
  "orig_nbformat": 4,
  "vscode": {
   "interpreter": {
    "hash": "c6e4e9f98eb68ad3b7c296f83d20e6de614cb42e90992a65aa266555a3137d0d"
   }
  }
 },
 "nbformat": 4,
 "nbformat_minor": 2
}
