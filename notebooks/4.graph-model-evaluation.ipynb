{
 "cells": [
  {
   "cell_type": "markdown",
   "metadata": {},
   "source": [
    "<div style=\"text-align: center; font-size: 30px; font-weight: bold; padding:20px\">University of London: BSc Computer Science (Final Project)</div>\n",
    "<div style=\"text-align: center; font-size: 30px; margin-top: 10px;\">Using Neural Network based Graph Model for Alzhiemer's Classification</div>\n",
    "<br>\n",
    "<div style=\"text-align: center; font-size: 20px; margin-top: 10px;\">Pragya Modi</div>\n",
    "<div style=\"text-align: center; font-size: 20px; margin-top: 15px;\">190308090</div>"
   ]
  },
  {
   "cell_type": "markdown",
   "metadata": {},
   "source": [
    "<div style=\"font-size: 70px; font-weight: bold; border-bottom: 6px solid black; padding-bottom:20px \">4. Evaluating the Graph Model</div>\n",
    "\n",
    "\n",
    "<div style=\"font-size: 30px; padding:10px\">\n",
    "<h1>4.1 Overview</h1>\n",
    "\n",
    "<p>\n",
    "In the previous notebooks, the Universal Workflow of Machine Learning (UWML) as defined in the Deep Learning with Python Book <code>[1]</code> was followed. This notebook takes the best performing model from the previous notebook, runs it with callbacks to save the best model, and evaluates this model using the test dataset. \n",
    "</p>\n",
    "</div>\n"
   ]
  },
  {
   "cell_type": "markdown",
   "metadata": {},
   "source": [
    "<div style=\"font-size: 30px; padding:10px\">\n",
    "<h1>4.2 Splitting the Data</h1>\n",
    "</div>"
   ]
  },
  {
   "cell_type": "code",
   "execution_count": 1,
   "metadata": {},
   "outputs": [],
   "source": [
    "# imports\n",
    "import tensorflow as tf\n",
    "from tensorflow.keras import layers, utils\n",
    "from matplotlib import pyplot as plt\n",
    "import os, shutil, pathlib\n",
    "from tensorflow import keras\n",
    "import numpy as np\n",
    "\n",
    "import helpers"
   ]
  },
  {
   "cell_type": "code",
   "execution_count": 2,
   "metadata": {},
   "outputs": [
    {
     "name": "stdout",
     "output_type": "stream",
     "text": [
      "Metal device set to: Apple M1 Pro\n",
      "\n",
      "systemMemory: 16.00 GB\n",
      "maxCacheSize: 5.33 GB\n",
      "\n"
     ]
    },
    {
     "name": "stderr",
     "output_type": "stream",
     "text": [
      "2022-09-01 07:44:43.637377: I tensorflow/core/common_runtime/pluggable_device/pluggable_device_factory.cc:305] Could not identify NUMA node of platform GPU ID 0, defaulting to 0. Your kernel may not have been built with NUMA support.\n",
      "2022-09-01 07:44:43.637499: I tensorflow/core/common_runtime/pluggable_device/pluggable_device_factory.cc:271] Created TensorFlow device (/job:localhost/replica:0/task:0/device:GPU:0 with 0 MB memory) -> physical PluggableDevice (device: 0, name: METAL, pci bus id: <undefined>)\n",
      "2022-09-01 07:44:43.653125: W tensorflow/core/platform/profile_utils/cpu_utils.cc:128] Failed to get CPU frequency: 0 Hz\n"
     ]
    },
    {
     "name": "stdout",
     "output_type": "stream",
     "text": [
      "4014\n"
     ]
    }
   ],
   "source": [
    "# load the tensorflow dataset\n",
    "dataset = tf.data.experimental.load('../data/tfdataset/final_dataset.tfrecords.gz', compression='GZIP')\n",
    "\n",
    "# print the size of the dataset\n",
    "dataset_size = 0\n",
    "for _ in dataset: dataset_size += 1\n",
    "print(dataset_size)\n",
    "\n",
    "# define the train, val, and test split ratios\n",
    "train_size = int(0.6 * dataset_size)\n",
    "val_size = int(0.15 * dataset_size)\n",
    "\n",
    "# shuffle the dataset\n",
    "dataset = dataset.shuffle(buffer_size=dataset_size)\n",
    "\n",
    "# use the helper function to split the dataset\n",
    "train_dataset, val_dataset, test_dataset = helpers.split_data(dataset, train_size, val_size)\n",
    "\n",
    "image_input = keras.Input(shape=(128, 128, 1), name='images')\n",
    "feature_input = keras.Input(shape=(7), name='features')"
   ]
  },
  {
   "cell_type": "markdown",
   "metadata": {},
   "source": [
    "<div style=\"font-size: 30px; padding:10px\">\n",
    "<h1>4.3 Saving the Best Performing Model for Evaluation</h1>\n",
    "</div>"
   ]
  },
  {
   "cell_type": "code",
   "execution_count": 5,
   "metadata": {},
   "outputs": [
    {
     "name": "stdout",
     "output_type": "stream",
     "text": [
      "Model: \"model_1\"\n",
      "__________________________________________________________________________________________________\n",
      " Layer (type)                   Output Shape         Param #     Connected to                     \n",
      "==================================================================================================\n",
      " images (InputLayer)            [(None, 128, 128, 1  0           []                               \n",
      "                                )]                                                                \n",
      "                                                                                                  \n",
      " conv2d_5 (Conv2D)              (None, 126, 126, 32  320         ['images[0][0]']                 \n",
      "                                )                                                                 \n",
      "                                                                                                  \n",
      " max_pooling2d_4 (MaxPooling2D)  (None, 63, 63, 32)  0           ['conv2d_5[0][0]']               \n",
      "                                                                                                  \n",
      " conv2d_6 (Conv2D)              (None, 61, 61, 64)   18496       ['max_pooling2d_4[0][0]']        \n",
      "                                                                                                  \n",
      " max_pooling2d_5 (MaxPooling2D)  (None, 30, 30, 64)  0           ['conv2d_6[0][0]']               \n",
      "                                                                                                  \n",
      " conv2d_7 (Conv2D)              (None, 28, 28, 128)  73856       ['max_pooling2d_5[0][0]']        \n",
      "                                                                                                  \n",
      " max_pooling2d_6 (MaxPooling2D)  (None, 14, 14, 128)  0          ['conv2d_7[0][0]']               \n",
      "                                                                                                  \n",
      " conv2d_8 (Conv2D)              (None, 12, 12, 256)  295168      ['max_pooling2d_6[0][0]']        \n",
      "                                                                                                  \n",
      " max_pooling2d_7 (MaxPooling2D)  (None, 6, 6, 256)   0           ['conv2d_8[0][0]']               \n",
      "                                                                                                  \n",
      " conv2d_9 (Conv2D)              (None, 4, 4, 512)    1180160     ['max_pooling2d_7[0][0]']        \n",
      "                                                                                                  \n",
      " features (InputLayer)          [(None, 7)]          0           []                               \n",
      "                                                                                                  \n",
      " global_max_pooling2d_1 (Global  (None, 512)         0           ['conv2d_9[0][0]']               \n",
      " MaxPooling2D)                                                                                    \n",
      "                                                                                                  \n",
      " dense_10 (Dense)               (None, 256)          2048        ['features[0][0]']               \n",
      "                                                                                                  \n",
      " dense_8 (Dense)                (None, 256)          131328      ['global_max_pooling2d_1[0][0]'] \n",
      "                                                                                                  \n",
      " dropout_3 (Dropout)            (None, 256)          0           ['dense_10[0][0]']               \n",
      "                                                                                                  \n",
      " dropout_2 (Dropout)            (None, 256)          0           ['dense_8[0][0]']                \n",
      "                                                                                                  \n",
      " dense_11 (Dense)               (None, 128)          32896       ['dropout_3[0][0]']              \n",
      "                                                                                                  \n",
      " dense_9 (Dense)                (None, 128)          32896       ['dropout_2[0][0]']              \n",
      "                                                                                                  \n",
      " dense_12 (Dense)               (None, 64)           8256        ['dense_11[0][0]']               \n",
      "                                                                                                  \n",
      " concatenate_1 (Concatenate)    (None, 192)          0           ['dense_9[0][0]',                \n",
      "                                                                  'dense_12[0][0]']               \n",
      "                                                                                                  \n",
      " dense_13 (Dense)               (None, 512)          98816       ['concatenate_1[0][0]']          \n",
      "                                                                                                  \n",
      " dense_14 (Dense)               (None, 256)          131328      ['dense_13[0][0]']               \n",
      "                                                                                                  \n",
      " dense_15 (Dense)               (None, 1)            257         ['dense_14[0][0]']               \n",
      "                                                                                                  \n",
      "==================================================================================================\n",
      "Total params: 2,005,825\n",
      "Trainable params: 2,005,825\n",
      "Non-trainable params: 0\n",
      "__________________________________________________________________________________________________\n",
      "Epoch 1/50\n"
     ]
    },
    {
     "name": "stderr",
     "output_type": "stream",
     "text": [
      "2022-09-01 07:45:45.968892: I tensorflow/core/grappler/optimizers/custom_graph_optimizer_registry.cc:113] Plugin optimizer for device_type GPU is enabled.\n"
     ]
    },
    {
     "name": "stdout",
     "output_type": "stream",
     "text": [
      "301/301 [==============================] - ETA: 0s - loss: 2.4059 - accuracy: 0.5540"
     ]
    },
    {
     "name": "stderr",
     "output_type": "stream",
     "text": [
      "2022-09-01 07:45:54.771080: I tensorflow/core/grappler/optimizers/custom_graph_optimizer_registry.cc:113] Plugin optimizer for device_type GPU is enabled.\n"
     ]
    },
    {
     "name": "stdout",
     "output_type": "stream",
     "text": [
      "\n",
      "Epoch 1: val_accuracy improved from -inf to 0.56645, saving model to ../models/best_model_random.keras\n",
      "301/301 [==============================] - 10s 29ms/step - loss: 2.4059 - accuracy: 0.5540 - val_loss: 0.7435 - val_accuracy: 0.5664\n",
      "Epoch 2/50\n",
      "299/301 [============================>.] - ETA: 0s - loss: 0.6964 - accuracy: 0.5765\n",
      "Epoch 2: val_accuracy did not improve from 0.56645\n",
      "301/301 [==============================] - 8s 26ms/step - loss: 0.6958 - accuracy: 0.5777 - val_loss: 0.6887 - val_accuracy: 0.5664\n",
      "Epoch 3/50\n",
      "300/301 [============================>.] - ETA: 0s - loss: 0.6872 - accuracy: 0.5679\n",
      "Epoch 3: val_accuracy did not improve from 0.56645\n",
      "301/301 [==============================] - 8s 27ms/step - loss: 0.6869 - accuracy: 0.5685 - val_loss: 0.6854 - val_accuracy: 0.5664\n",
      "Epoch 4/50\n",
      "301/301 [==============================] - ETA: 0s - loss: 0.6789 - accuracy: 0.5864\n",
      "Epoch 4: val_accuracy did not improve from 0.56645\n",
      "301/301 [==============================] - 8s 26ms/step - loss: 0.6789 - accuracy: 0.5864 - val_loss: 0.6791 - val_accuracy: 0.5664\n",
      "Epoch 5/50\n",
      "300/301 [============================>.] - ETA: 0s - loss: 0.6796 - accuracy: 0.5967\n",
      "Epoch 5: val_accuracy improved from 0.56645 to 0.59468, saving model to ../models/best_model_random.keras\n",
      "301/301 [==============================] - 8s 26ms/step - loss: 0.6792 - accuracy: 0.5972 - val_loss: 0.6661 - val_accuracy: 0.5947\n",
      "Epoch 6/50\n",
      "301/301 [==============================] - ETA: 0s - loss: 0.6509 - accuracy: 0.6395\n",
      "Epoch 6: val_accuracy did not improve from 0.59468\n",
      "301/301 [==============================] - 8s 26ms/step - loss: 0.6509 - accuracy: 0.6395 - val_loss: 0.7835 - val_accuracy: 0.5947\n",
      "Epoch 7/50\n",
      "300/301 [============================>.] - ETA: 0s - loss: 0.5992 - accuracy: 0.6988\n",
      "Epoch 7: val_accuracy improved from 0.59468 to 0.62957, saving model to ../models/best_model_random.keras\n",
      "301/301 [==============================] - 8s 27ms/step - loss: 0.5985 - accuracy: 0.6993 - val_loss: 0.7948 - val_accuracy: 0.6296\n",
      "Epoch 8/50\n",
      "301/301 [==============================] - ETA: 0s - loss: 0.5221 - accuracy: 0.7654\n",
      "Epoch 8: val_accuracy improved from 0.62957 to 0.73754, saving model to ../models/best_model_random.keras\n",
      "301/301 [==============================] - 8s 27ms/step - loss: 0.5221 - accuracy: 0.7654 - val_loss: 0.7773 - val_accuracy: 0.7375\n",
      "Epoch 9/50\n",
      "300/301 [============================>.] - ETA: 0s - loss: 0.4130 - accuracy: 0.8229\n",
      "Epoch 9: val_accuracy improved from 0.73754 to 0.84385, saving model to ../models/best_model_random.keras\n",
      "301/301 [==============================] - 8s 26ms/step - loss: 0.4123 - accuracy: 0.8231 - val_loss: 0.5463 - val_accuracy: 0.8439\n",
      "Epoch 10/50\n",
      "300/301 [============================>.] - ETA: 0s - loss: 0.3206 - accuracy: 0.8813\n",
      "Epoch 10: val_accuracy did not improve from 0.84385\n",
      "301/301 [==============================] - 8s 26ms/step - loss: 0.3202 - accuracy: 0.8812 - val_loss: 0.5182 - val_accuracy: 0.8073\n",
      "Epoch 11/50\n",
      "299/301 [============================>.] - ETA: 0s - loss: 0.2489 - accuracy: 0.9164\n",
      "Epoch 11: val_accuracy improved from 0.84385 to 0.88870, saving model to ../models/best_model_random.keras\n",
      "301/301 [==============================] - 8s 27ms/step - loss: 0.2477 - accuracy: 0.9169 - val_loss: 0.3690 - val_accuracy: 0.8887\n",
      "Epoch 12/50\n",
      "299/301 [============================>.] - ETA: 0s - loss: 0.1965 - accuracy: 0.9406\n",
      "Epoch 12: val_accuracy improved from 0.88870 to 0.89369, saving model to ../models/best_model_random.keras\n",
      "301/301 [==============================] - 8s 27ms/step - loss: 0.1955 - accuracy: 0.9410 - val_loss: 0.5102 - val_accuracy: 0.8937\n",
      "Epoch 13/50\n",
      "301/301 [==============================] - ETA: 0s - loss: 0.1713 - accuracy: 0.9444\n",
      "Epoch 13: val_accuracy did not improve from 0.89369\n",
      "301/301 [==============================] - 8s 26ms/step - loss: 0.1713 - accuracy: 0.9444 - val_loss: 0.7251 - val_accuracy: 0.8223\n",
      "Epoch 14/50\n",
      "299/301 [============================>.] - ETA: 0s - loss: 0.1465 - accuracy: 0.9607\n",
      "Epoch 14: val_accuracy did not improve from 0.89369\n",
      "301/301 [==============================] - 8s 27ms/step - loss: 0.1456 - accuracy: 0.9610 - val_loss: 0.8266 - val_accuracy: 0.8754\n",
      "Epoch 15/50\n",
      "301/301 [==============================] - ETA: 0s - loss: 0.1395 - accuracy: 0.9547\n",
      "Epoch 15: val_accuracy improved from 0.89369 to 0.91528, saving model to ../models/best_model_random.keras\n",
      "301/301 [==============================] - 8s 27ms/step - loss: 0.1395 - accuracy: 0.9547 - val_loss: 0.6717 - val_accuracy: 0.9153\n",
      "Epoch 16/50\n",
      "300/301 [============================>.] - ETA: 0s - loss: 0.1761 - accuracy: 0.9604\n",
      "Epoch 16: val_accuracy improved from 0.91528 to 0.91694, saving model to ../models/best_model_random.keras\n",
      "301/301 [==============================] - 8s 27ms/step - loss: 0.1756 - accuracy: 0.9605 - val_loss: 0.4028 - val_accuracy: 0.9169\n",
      "Epoch 17/50\n",
      "301/301 [==============================] - ETA: 0s - loss: 0.1145 - accuracy: 0.9792\n",
      "Epoch 17: val_accuracy did not improve from 0.91694\n",
      "301/301 [==============================] - 8s 27ms/step - loss: 0.1145 - accuracy: 0.9792 - val_loss: 1.0108 - val_accuracy: 0.9103\n",
      "Epoch 18/50\n",
      "300/301 [============================>.] - ETA: 0s - loss: 0.1160 - accuracy: 0.9742\n",
      "Epoch 18: val_accuracy improved from 0.91694 to 0.92525, saving model to ../models/best_model_random.keras\n",
      "301/301 [==============================] - 8s 26ms/step - loss: 0.1159 - accuracy: 0.9738 - val_loss: 0.3363 - val_accuracy: 0.9252\n",
      "Epoch 19/50\n",
      "300/301 [============================>.] - ETA: 0s - loss: 0.0939 - accuracy: 0.9796\n",
      "Epoch 19: val_accuracy improved from 0.92525 to 0.93023, saving model to ../models/best_model_random.keras\n",
      "301/301 [==============================] - 8s 26ms/step - loss: 0.0941 - accuracy: 0.9797 - val_loss: 0.2914 - val_accuracy: 0.9302\n",
      "Epoch 20/50\n",
      "299/301 [============================>.] - ETA: 0s - loss: 0.1247 - accuracy: 0.9745\n",
      "Epoch 20: val_accuracy did not improve from 0.93023\n",
      "301/301 [==============================] - 8s 26ms/step - loss: 0.1240 - accuracy: 0.9747 - val_loss: 0.6788 - val_accuracy: 0.9236\n",
      "Epoch 21/50\n",
      "299/301 [============================>.] - ETA: 0s - loss: 0.1146 - accuracy: 0.9799\n",
      "Epoch 21: val_accuracy did not improve from 0.93023\n",
      "301/301 [==============================] - 8s 27ms/step - loss: 0.1139 - accuracy: 0.9801 - val_loss: 0.9300 - val_accuracy: 0.9186\n",
      "Epoch 22/50\n",
      "299/301 [============================>.] - ETA: 0s - loss: 0.0996 - accuracy: 0.9787\n",
      "Epoch 22: val_accuracy improved from 0.93023 to 0.93688, saving model to ../models/best_model_random.keras\n",
      "301/301 [==============================] - 8s 26ms/step - loss: 0.0992 - accuracy: 0.9788 - val_loss: 0.3783 - val_accuracy: 0.9369\n",
      "Epoch 23/50\n",
      "301/301 [==============================] - ETA: 0s - loss: 0.1043 - accuracy: 0.9846\n",
      "Epoch 23: val_accuracy did not improve from 0.93688\n",
      "301/301 [==============================] - 8s 26ms/step - loss: 0.1043 - accuracy: 0.9846 - val_loss: 3.3743 - val_accuracy: 0.7973\n",
      "Epoch 24/50\n",
      "301/301 [==============================] - ETA: 0s - loss: 0.0842 - accuracy: 0.9842\n",
      "Epoch 24: val_accuracy did not improve from 0.93688\n",
      "301/301 [==============================] - 8s 27ms/step - loss: 0.0842 - accuracy: 0.9842 - val_loss: 1.0905 - val_accuracy: 0.9186\n",
      "Epoch 25/50\n",
      "299/301 [============================>.] - ETA: 0s - loss: 0.1100 - accuracy: 0.9741\n",
      "Epoch 25: val_accuracy did not improve from 0.93688\n",
      "301/301 [==============================] - 8s 26ms/step - loss: 0.1095 - accuracy: 0.9743 - val_loss: 1.5092 - val_accuracy: 0.8721\n",
      "Epoch 26/50\n",
      "299/301 [============================>.] - ETA: 0s - loss: 0.0959 - accuracy: 0.9753\n",
      "Epoch 26: val_accuracy did not improve from 0.93688\n",
      "301/301 [==============================] - 8s 26ms/step - loss: 0.0953 - accuracy: 0.9755 - val_loss: 0.6753 - val_accuracy: 0.9136\n",
      "Epoch 27/50\n",
      "300/301 [============================>.] - ETA: 0s - loss: 0.0644 - accuracy: 0.9888\n",
      "Epoch 27: val_accuracy did not improve from 0.93688\n",
      "301/301 [==============================] - 8s 26ms/step - loss: 0.0642 - accuracy: 0.9888 - val_loss: 0.5017 - val_accuracy: 0.9236\n",
      "Epoch 28/50\n",
      "301/301 [==============================] - ETA: 0s - loss: 0.0958 - accuracy: 0.9767\n",
      "Epoch 28: val_accuracy did not improve from 0.93688\n",
      "301/301 [==============================] - 8s 26ms/step - loss: 0.0958 - accuracy: 0.9767 - val_loss: 1.7113 - val_accuracy: 0.8671\n",
      "Epoch 29/50\n",
      "300/301 [============================>.] - ETA: 0s - loss: 0.1242 - accuracy: 0.9796\n",
      "Epoch 29: val_accuracy did not improve from 0.93688\n",
      "301/301 [==============================] - 8s 26ms/step - loss: 0.1238 - accuracy: 0.9797 - val_loss: 0.6493 - val_accuracy: 0.9252\n",
      "Epoch 30/50\n",
      "300/301 [============================>.] - ETA: 0s - loss: 0.0711 - accuracy: 0.9858\n",
      "Epoch 30: val_accuracy did not improve from 0.93688\n",
      "301/301 [==============================] - 8s 26ms/step - loss: 0.0710 - accuracy: 0.9859 - val_loss: 1.0962 - val_accuracy: 0.8970\n",
      "Epoch 31/50\n",
      "300/301 [============================>.] - ETA: 0s - loss: 0.0999 - accuracy: 0.9804\n",
      "Epoch 31: val_accuracy improved from 0.93688 to 0.93854, saving model to ../models/best_model_random.keras\n",
      "301/301 [==============================] - 8s 26ms/step - loss: 0.0996 - accuracy: 0.9805 - val_loss: 1.0023 - val_accuracy: 0.9385\n",
      "Epoch 32/50\n",
      "300/301 [============================>.] - ETA: 0s - loss: 0.1811 - accuracy: 0.9717\n",
      "Epoch 32: val_accuracy did not improve from 0.93854\n",
      "301/301 [==============================] - 8s 28ms/step - loss: 0.1807 - accuracy: 0.9718 - val_loss: 0.6294 - val_accuracy: 0.9336\n",
      "Epoch 33/50\n",
      "300/301 [============================>.] - ETA: 0s - loss: 0.0519 - accuracy: 0.9883\n",
      "Epoch 33: val_accuracy improved from 0.93854 to 0.94186, saving model to ../models/best_model_random.keras\n",
      "301/301 [==============================] - 8s 27ms/step - loss: 0.0517 - accuracy: 0.9884 - val_loss: 0.9818 - val_accuracy: 0.9419\n",
      "Epoch 34/50\n",
      "300/301 [============================>.] - ETA: 0s - loss: 0.1702 - accuracy: 0.9838\n",
      "Epoch 34: val_accuracy did not improve from 0.94186\n",
      "301/301 [==============================] - 8s 27ms/step - loss: 0.1697 - accuracy: 0.9838 - val_loss: 0.7817 - val_accuracy: 0.9219\n",
      "Epoch 35/50\n",
      "301/301 [==============================] - ETA: 0s - loss: 0.0743 - accuracy: 0.9875\n",
      "Epoch 35: val_accuracy did not improve from 0.94186\n",
      "301/301 [==============================] - 8s 26ms/step - loss: 0.0743 - accuracy: 0.9875 - val_loss: 0.7913 - val_accuracy: 0.9269\n",
      "Epoch 36/50\n",
      "301/301 [==============================] - ETA: 0s - loss: 0.0601 - accuracy: 0.9859\n",
      "Epoch 36: val_accuracy did not improve from 0.94186\n",
      "301/301 [==============================] - 8s 27ms/step - loss: 0.0601 - accuracy: 0.9859 - val_loss: 0.7529 - val_accuracy: 0.9286\n",
      "Epoch 37/50\n",
      "300/301 [============================>.] - ETA: 0s - loss: 0.1277 - accuracy: 0.9783\n",
      "Epoch 37: val_accuracy did not improve from 0.94186\n",
      "301/301 [==============================] - 8s 27ms/step - loss: 0.1273 - accuracy: 0.9784 - val_loss: 0.6145 - val_accuracy: 0.9302\n",
      "Epoch 38/50\n",
      "301/301 [==============================] - ETA: 0s - loss: 0.1111 - accuracy: 0.9801\n",
      "Epoch 38: val_accuracy did not improve from 0.94186\n",
      "301/301 [==============================] - 8s 27ms/step - loss: 0.1111 - accuracy: 0.9801 - val_loss: 0.7599 - val_accuracy: 0.9319\n",
      "Epoch 39/50\n",
      "299/301 [============================>.] - ETA: 0s - loss: 0.1189 - accuracy: 0.9829\n",
      "Epoch 39: val_accuracy did not improve from 0.94186\n",
      "301/301 [==============================] - 8s 26ms/step - loss: 0.1183 - accuracy: 0.9830 - val_loss: 0.5110 - val_accuracy: 0.9352\n",
      "Epoch 40/50\n",
      "301/301 [==============================] - ETA: 0s - loss: 0.0890 - accuracy: 0.9859\n",
      "Epoch 40: val_accuracy did not improve from 0.94186\n",
      "301/301 [==============================] - 8s 26ms/step - loss: 0.0890 - accuracy: 0.9859 - val_loss: 1.4131 - val_accuracy: 0.9286\n",
      "Epoch 41/50\n",
      "300/301 [============================>.] - ETA: 0s - loss: 0.1053 - accuracy: 0.9883\n",
      "Epoch 41: val_accuracy did not improve from 0.94186\n",
      "301/301 [==============================] - 8s 26ms/step - loss: 0.1050 - accuracy: 0.9884 - val_loss: 1.2024 - val_accuracy: 0.9269\n",
      "Epoch 42/50\n",
      "299/301 [============================>.] - ETA: 0s - loss: 0.1023 - accuracy: 0.9791\n",
      "Epoch 42: val_accuracy did not improve from 0.94186\n",
      "301/301 [==============================] - 8s 26ms/step - loss: 0.1017 - accuracy: 0.9792 - val_loss: 0.6705 - val_accuracy: 0.9419\n",
      "Epoch 43/50\n",
      "300/301 [============================>.] - ETA: 0s - loss: 0.1509 - accuracy: 0.9817\n",
      "Epoch 43: val_accuracy improved from 0.94186 to 0.94352, saving model to ../models/best_model_random.keras\n",
      "301/301 [==============================] - 8s 27ms/step - loss: 0.1505 - accuracy: 0.9817 - val_loss: 0.6820 - val_accuracy: 0.9435\n",
      "Epoch 44/50\n",
      "300/301 [============================>.] - ETA: 0s - loss: 0.0829 - accuracy: 0.9850\n",
      "Epoch 44: val_accuracy did not improve from 0.94352\n",
      "301/301 [==============================] - 8s 26ms/step - loss: 0.0827 - accuracy: 0.9850 - val_loss: 0.4899 - val_accuracy: 0.9435\n",
      "Epoch 45/50\n",
      "300/301 [============================>.] - ETA: 0s - loss: 0.0792 - accuracy: 0.9817\n",
      "Epoch 45: val_accuracy improved from 0.94352 to 0.95017, saving model to ../models/best_model_random.keras\n",
      "301/301 [==============================] - 8s 26ms/step - loss: 0.0790 - accuracy: 0.9817 - val_loss: 0.8058 - val_accuracy: 0.9502\n",
      "Epoch 46/50\n",
      "300/301 [============================>.] - ETA: 0s - loss: 0.1751 - accuracy: 0.9854\n",
      "Epoch 46: val_accuracy did not improve from 0.95017\n",
      "301/301 [==============================] - 8s 26ms/step - loss: 0.1746 - accuracy: 0.9855 - val_loss: 0.6795 - val_accuracy: 0.9352\n",
      "Epoch 47/50\n",
      "300/301 [============================>.] - ETA: 0s - loss: 0.0866 - accuracy: 0.9925\n",
      "Epoch 47: val_accuracy did not improve from 0.95017\n",
      "301/301 [==============================] - 9s 30ms/step - loss: 0.0863 - accuracy: 0.9925 - val_loss: 0.9763 - val_accuracy: 0.9369\n",
      "Epoch 48/50\n",
      "300/301 [============================>.] - ETA: 0s - loss: 0.1547 - accuracy: 0.9767\n",
      "Epoch 48: val_accuracy did not improve from 0.95017\n",
      "301/301 [==============================] - 8s 27ms/step - loss: 0.1542 - accuracy: 0.9767 - val_loss: 1.0636 - val_accuracy: 0.9336\n",
      "Epoch 49/50\n",
      "301/301 [==============================] - ETA: 0s - loss: 0.0991 - accuracy: 0.9826\n",
      "Epoch 49: val_accuracy did not improve from 0.95017\n",
      "301/301 [==============================] - 8s 27ms/step - loss: 0.0991 - accuracy: 0.9826 - val_loss: 0.7379 - val_accuracy: 0.9402\n",
      "Epoch 50/50\n",
      "300/301 [============================>.] - ETA: 0s - loss: 0.0646 - accuracy: 0.9879\n",
      "Epoch 50: val_accuracy did not improve from 0.95017\n",
      "301/301 [==============================] - 8s 27ms/step - loss: 0.0644 - accuracy: 0.9880 - val_loss: 0.5674 - val_accuracy: 0.9419\n"
     ]
    },
    {
     "data": {
      "image/png": "[encoded data removed]",
      "text/plain": [
       "<Figure size 432x288 with 1 Axes>"
      ]
     },
     "metadata": {
      "needs_background": "light"
     },
     "output_type": "display_data"
    },
    {
     "data": {
      "image/png": "[encoded data removed]",
      "text/plain": [
       "<Figure size 432x288 with 1 Axes>"
      ]
     },
     "metadata": {
      "needs_background": "light"
     },
     "output_type": "display_data"
    },
    {
     "data": {
      "text/plain": [
       "(<keras.callbacks.History at 0x177674a30>,\n",
       " <keras.engine.functional.Functional at 0x17879da60>)"
      ]
     },
     "execution_count": 5,
     "metadata": {},
     "output_type": "execute_result"
    }
   ],
   "source": [
    "callback = [\n",
    "    keras.callbacks.EarlyStopping(\n",
    "        monitor=\"val_accuracy\", patience=10, restore_best_weights=True\n",
    "    ),\n",
    "    keras.callbacks.ModelCheckpoint(\n",
    "        '../models/best_model.keras', monitor=\"val_accuracy\", save_best_only=True, verbose=1\n",
    "    )\n",
    "]\n",
    "\n",
    "x = layers.Conv2D(filters=32, kernel_size=3, activation=\"relu\")(image_input)\n",
    "x = layers.MaxPooling2D(pool_size=2)(x)\n",
    "x = layers.Conv2D(filters=64, kernel_size=3, activation=\"relu\")(x)\n",
    "x = layers.MaxPooling2D(pool_size=2)(x)\n",
    "x = layers.Conv2D(filters=128, kernel_size=3, activation=\"relu\")(x)\n",
    "x = layers.MaxPooling2D(pool_size=2)(x)\n",
    "x = layers.Conv2D(filters=256, kernel_size=3, activation=\"relu\")(x)\n",
    "x = layers.MaxPooling2D(pool_size=2)(x)\n",
    "x = layers.Conv2D(filters=512, kernel_size=3, activation=\"relu\")(x)\n",
    "x = layers.GlobalMaxPooling2D()(x)\n",
    "x = layers.Dense(256, activation=\"relu\")(x)\n",
    "x = layers.Dropout(0.1)(x)\n",
    "x = layers.Dense(128, activation=\"relu\")(x)\n",
    "\n",
    "y = layers.Dense(256, activation=\"relu\")(feature_input)\n",
    "y = layers.Dropout(0.1)(y)\n",
    "y = layers.Dense(128, activation=\"relu\")(y)\n",
    "y = layers.Dense(64, activation=\"relu\")(y)\n",
    "\n",
    "z = layers.Concatenate()([x, y])\n",
    "z = layers.Dense(512, activation=\"relu\", kernel_regularizer=keras.regularizers.l1_l2(0.00002))(z)\n",
    "z = layers.Dense(256, activation=\"relu\", kernel_regularizer=keras.regularizers.l1_l2(0.00002))(z)\n",
    "z = layers.Dense(1, activation=\"sigmoid\")(z)\n",
    "\n",
    "helpers.run_model(\n",
    "    [image_input, feature_input],\n",
    "    z,\n",
    "    train_dataset,\n",
    "    val_dataset,\n",
    "    epochs=50,\n",
    "    callback=callback,\n",
    "    optimizer=keras.optimizers.RMSprop(learning_rate=0.0005),\n",
    ")"
   ]
  },
  {
   "cell_type": "markdown",
   "metadata": {},
   "source": [
    "<div style=\"font-size: 30px; padding:10px\">\n",
    "<h1>4.4 Evaluating the Best Performing Model</h1>\n",
    "</div>"
   ]
  },
  {
   "cell_type": "code",
   "execution_count": 6,
   "metadata": {},
   "outputs": [
    {
     "name": "stderr",
     "output_type": "stream",
     "text": [
      "2022-09-01 07:53:00.893516: I tensorflow/core/grappler/optimizers/custom_graph_optimizer_registry.cc:113] Plugin optimizer for device_type GPU is enabled.\n"
     ]
    },
    {
     "name": "stdout",
     "output_type": "stream",
     "text": [
      "126/126 [==============================] - 1s 8ms/step - loss: 0.7303 - accuracy: 0.9552\n"
     ]
    },
    {
     "data": {
      "text/plain": [
       "[0.7303178310394287, 0.9551793336868286]"
      ]
     },
     "execution_count": 6,
     "metadata": {},
     "output_type": "execute_result"
    }
   ],
   "source": [
    "# loading the best model\n",
    "model = keras.models.load_model('../models/best_model.keras')\n",
    "\n",
    "# evaluate the model\n",
    "model.evaluate(test_dataset)"
   ]
  },
  {
   "cell_type": "markdown",
   "metadata": {},
   "source": [
    "<div style=\"font-size: 30px; padding:10px\">\n",
    "<h1>4.5 Summary</h1>\n",
    "\n",
    "<p>\n",
    "The best performing model gives an accuracy of <code>95.51%</code>\n",
    "</p>\n",
    "<h1>4.6 References</h1>\n",
    "\n",
    "<p>[1] Chollet, François. Deep Learning With Python (1st ed.). </p>\n",
    "\n",
    "\n",
    "</div>"
   ]
  },
  {
   "cell_type": "markdown",
   "metadata": {},
   "source": [
    "----\n",
    "<div style=\"text-align: center; font-size: 30px; font-weight: bold; padding:20px\">End of File</div>\n",
    "\n",
    "----"
   ]
  }
 ],
 "metadata": {
  "kernelspec": {
   "display_name": "Python 3.9.10 ('base')",
   "language": "python",
   "name": "python3"
  },
  "language_info": {
   "codemirror_mode": {
    "name": "ipython",
    "version": 3
   },
   "file_extension": ".py",
   "mimetype": "text/x-python",
   "name": "python",
   "nbconvert_exporter": "python",
   "pygments_lexer": "ipython3",
   "version": "3.9.10"
  },
  "orig_nbformat": 4,
  "vscode": {
   "interpreter": {
    "hash": "c6e4e9f98eb68ad3b7c296f83d20e6de614cb42e90992a65aa266555a3137d0d"
   }
  }
 },
 "nbformat": 4,
 "nbformat_minor": 2
}
