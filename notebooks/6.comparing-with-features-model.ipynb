{
 "cells": [
  {
   "cell_type": "markdown",
   "metadata": {},
   "source": [
    "<div style=\"font-size: 70px; font-weight: bold; border-bottom: 6px solid black; padding-bottom:20px \">6. Comparing with the Features Model</div>\n",
    "\n",
    "\n",
    "<div style=\"font-size: 30px; padding:10px\">\n",
    "<h1>6.1 Overview</h1>\n",
    "\n",
    "<p>\n",
    "The aim of this research is to build a multi-input deep learning graph model to classify for Alzhiemers. The main model takes MRI Scans and patient demographics as an input to provide a prediction. \n",
    "</p>\n",
    "\n",
    "<p>\n",
    "Since more of the past studies focus on using only MRI scans, this section compares the graph model built with a model built using only the feature node of the graph model. This comparision is helpful in understanding whether a multi-input model is neccessary to classify for Alzhiemer's. \n",
    "</p>\n",
    "</div>\n"
   ]
  },
  {
   "cell_type": "markdown",
   "metadata": {},
   "source": [
    "<div style=\"font-size: 30px; padding:10px\">\n",
    "<h1>6.2 Splitting the Data</h1>\n",
    "</div>"
   ]
  },
  {
   "cell_type": "code",
   "execution_count": 1,
   "metadata": {},
   "outputs": [],
   "source": [
    "# imports\n",
    "import tensorflow as tf\n",
    "from tensorflow.keras import layers, utils\n",
    "from matplotlib import pyplot as plt\n",
    "import os, shutil, pathlib\n",
    "from tensorflow import keras\n",
    "import numpy as np\n",
    "\n",
    "import helpers"
   ]
  },
  {
   "cell_type": "code",
   "execution_count": 2,
   "metadata": {},
   "outputs": [
    {
     "name": "stdout",
     "output_type": "stream",
     "text": [
      "Metal device set to: Apple M1 Pro\n",
      "\n",
      "systemMemory: 16.00 GB\n",
      "maxCacheSize: 5.33 GB\n",
      "\n"
     ]
    },
    {
     "name": "stderr",
     "output_type": "stream",
     "text": [
      "2022-09-01 06:40:56.825271: I tensorflow/core/common_runtime/pluggable_device/pluggable_device_factory.cc:305] Could not identify NUMA node of platform GPU ID 0, defaulting to 0. Your kernel may not have been built with NUMA support.\n",
      "2022-09-01 06:40:56.825378: I tensorflow/core/common_runtime/pluggable_device/pluggable_device_factory.cc:271] Created TensorFlow device (/job:localhost/replica:0/task:0/device:GPU:0 with 0 MB memory) -> physical PluggableDevice (device: 0, name: METAL, pci bus id: <undefined>)\n",
      "2022-09-01 06:40:56.855561: W tensorflow/core/platform/profile_utils/cpu_utils.cc:128] Failed to get CPU frequency: 0 Hz\n"
     ]
    },
    {
     "name": "stdout",
     "output_type": "stream",
     "text": [
      "4014\n"
     ]
    }
   ],
   "source": [
    "# load the tensorflow dataset\n",
    "dataset = tf.data.experimental.load('../data/tfdataset/final_dataset.tfrecords.gz', compression='GZIP')\n",
    "\n",
    "# print the size of the dataset\n",
    "dataset_size = 0\n",
    "for _ in dataset: dataset_size += 1\n",
    "print(dataset_size)\n",
    "\n",
    "dataset = dataset.map(lambda x, y: (x['features'], y))\n",
    "\n",
    "# define the train, val, and test split ratios\n",
    "train_size = int(0.6 * dataset_size)\n",
    "val_size = int(0.15 * dataset_size)\n",
    "\n",
    "# shuffle the dataset\n",
    "dataset = dataset.shuffle(buffer_size=dataset_size)\n",
    "\n",
    "# use the helper function to split the dataset\n",
    "train_dataset, val_dataset, test_dataset = helpers.split_data(dataset, train_size, val_size)\n",
    "\n",
    "feature_input = keras.Input(shape=(7))"
   ]
  },
  {
   "cell_type": "markdown",
   "metadata": {},
   "source": [
    "<div style=\"font-size: 30px; padding:10px\">\n",
    "<h1>6.3 Model</h1>\n",
    "</div>"
   ]
  },
  {
   "cell_type": "code",
   "execution_count": 3,
   "metadata": {},
   "outputs": [
    {
     "name": "stdout",
     "output_type": "stream",
     "text": [
      "Model: \"model\"\n",
      "_________________________________________________________________\n",
      " Layer (type)                Output Shape              Param #   \n",
      "=================================================================\n",
      " input_1 (InputLayer)        [(None, 7)]               0         \n",
      "                                                                 \n",
      " dense (Dense)               (None, 256)               2048      \n",
      "                                                                 \n",
      " dropout (Dropout)           (None, 256)               0         \n",
      "                                                                 \n",
      " dense_1 (Dense)             (None, 128)               32896     \n",
      "                                                                 \n",
      " dense_2 (Dense)             (None, 64)                8256      \n",
      "                                                                 \n",
      " dense_3 (Dense)             (None, 1)                 65        \n",
      "                                                                 \n",
      "=================================================================\n",
      "Total params: 43,265\n",
      "Trainable params: 43,265\n",
      "Non-trainable params: 0\n",
      "_________________________________________________________________\n",
      "Epoch 1/50\n"
     ]
    },
    {
     "name": "stderr",
     "output_type": "stream",
     "text": [
      "2022-09-01 06:40:58.317585: I tensorflow/core/grappler/optimizers/custom_graph_optimizer_registry.cc:113] Plugin optimizer for device_type GPU is enabled.\n"
     ]
    },
    {
     "name": "stdout",
     "output_type": "stream",
     "text": [
      "300/301 [============================>.] - ETA: 0s - loss: 0.7120 - accuracy: 0.5483"
     ]
    },
    {
     "name": "stderr",
     "output_type": "stream",
     "text": [
      "2022-09-01 06:41:02.054094: I tensorflow/core/grappler/optimizers/custom_graph_optimizer_registry.cc:113] Plugin optimizer for device_type GPU is enabled.\n"
     ]
    },
    {
     "name": "stdout",
     "output_type": "stream",
     "text": [
      "301/301 [==============================] - 5s 13ms/step - loss: 0.7122 - accuracy: 0.5482 - val_loss: 0.6799 - val_accuracy: 0.5814\n",
      "Epoch 2/50\n",
      "301/301 [==============================] - 3s 9ms/step - loss: 0.6868 - accuracy: 0.5660 - val_loss: 0.6675 - val_accuracy: 0.5980\n",
      "Epoch 3/50\n",
      "301/301 [==============================] - 3s 9ms/step - loss: 0.6747 - accuracy: 0.5831 - val_loss: 0.6596 - val_accuracy: 0.6047\n",
      "Epoch 4/50\n",
      "301/301 [==============================] - 3s 10ms/step - loss: 0.6644 - accuracy: 0.6009 - val_loss: 0.6529 - val_accuracy: 0.6096\n",
      "Epoch 5/50\n",
      "301/301 [==============================] - 3s 9ms/step - loss: 0.6586 - accuracy: 0.6059 - val_loss: 0.6495 - val_accuracy: 0.6096\n",
      "Epoch 6/50\n",
      "301/301 [==============================] - 3s 9ms/step - loss: 0.6517 - accuracy: 0.6121 - val_loss: 0.6454 - val_accuracy: 0.6113\n",
      "Epoch 7/50\n",
      "301/301 [==============================] - 3s 9ms/step - loss: 0.6485 - accuracy: 0.6100 - val_loss: 0.6418 - val_accuracy: 0.6262\n",
      "Epoch 8/50\n",
      "301/301 [==============================] - 3s 9ms/step - loss: 0.6455 - accuracy: 0.6154 - val_loss: 0.6363 - val_accuracy: 0.6279\n",
      "Epoch 9/50\n",
      "301/301 [==============================] - 3s 9ms/step - loss: 0.6416 - accuracy: 0.6221 - val_loss: 0.6324 - val_accuracy: 0.6362\n",
      "Epoch 10/50\n",
      "301/301 [==============================] - 3s 9ms/step - loss: 0.6372 - accuracy: 0.6254 - val_loss: 0.6225 - val_accuracy: 0.6528\n",
      "Epoch 11/50\n",
      "301/301 [==============================] - 3s 9ms/step - loss: 0.6298 - accuracy: 0.6379 - val_loss: 0.6161 - val_accuracy: 0.6462\n",
      "Epoch 12/50\n",
      "301/301 [==============================] - 3s 9ms/step - loss: 0.6227 - accuracy: 0.6458 - val_loss: 0.6079 - val_accuracy: 0.6628\n",
      "Epoch 13/50\n",
      "301/301 [==============================] - 3s 12ms/step - loss: 0.6153 - accuracy: 0.6503 - val_loss: 0.6065 - val_accuracy: 0.6844\n",
      "Epoch 14/50\n",
      "301/301 [==============================] - 3s 10ms/step - loss: 0.6120 - accuracy: 0.6537 - val_loss: 0.5947 - val_accuracy: 0.6777\n",
      "Epoch 15/50\n",
      "301/301 [==============================] - 3s 9ms/step - loss: 0.6071 - accuracy: 0.6645 - val_loss: 0.5882 - val_accuracy: 0.6894\n",
      "Epoch 16/50\n",
      "301/301 [==============================] - 3s 9ms/step - loss: 0.6004 - accuracy: 0.6665 - val_loss: 0.5844 - val_accuracy: 0.6960\n",
      "Epoch 17/50\n",
      "301/301 [==============================] - 3s 9ms/step - loss: 0.5953 - accuracy: 0.6757 - val_loss: 0.5839 - val_accuracy: 0.7043\n",
      "Epoch 18/50\n",
      "301/301 [==============================] - 3s 9ms/step - loss: 0.5907 - accuracy: 0.6831 - val_loss: 0.5779 - val_accuracy: 0.7010\n",
      "Epoch 19/50\n",
      "301/301 [==============================] - 3s 9ms/step - loss: 0.5882 - accuracy: 0.6840 - val_loss: 0.5770 - val_accuracy: 0.7093\n",
      "Epoch 20/50\n",
      "301/301 [==============================] - 3s 9ms/step - loss: 0.5843 - accuracy: 0.6848 - val_loss: 0.5841 - val_accuracy: 0.6927\n",
      "Epoch 21/50\n",
      "301/301 [==============================] - 3s 9ms/step - loss: 0.5820 - accuracy: 0.6890 - val_loss: 0.5825 - val_accuracy: 0.6960\n",
      "Epoch 22/50\n",
      "301/301 [==============================] - 3s 9ms/step - loss: 0.5802 - accuracy: 0.6948 - val_loss: 0.5825 - val_accuracy: 0.7010\n",
      "Epoch 23/50\n",
      "301/301 [==============================] - 3s 9ms/step - loss: 0.5781 - accuracy: 0.6877 - val_loss: 0.5815 - val_accuracy: 0.7010\n",
      "Epoch 24/50\n",
      "301/301 [==============================] - 3s 10ms/step - loss: 0.5756 - accuracy: 0.6927 - val_loss: 0.5882 - val_accuracy: 0.7060\n",
      "Epoch 25/50\n",
      "301/301 [==============================] - 3s 11ms/step - loss: 0.5742 - accuracy: 0.6948 - val_loss: 0.5881 - val_accuracy: 0.7110\n",
      "Epoch 26/50\n",
      "301/301 [==============================] - 3s 11ms/step - loss: 0.5728 - accuracy: 0.6960 - val_loss: 0.5885 - val_accuracy: 0.7176\n",
      "Epoch 27/50\n",
      "301/301 [==============================] - 3s 11ms/step - loss: 0.5719 - accuracy: 0.6948 - val_loss: 0.5844 - val_accuracy: 0.7226\n",
      "Epoch 28/50\n",
      "301/301 [==============================] - 3s 9ms/step - loss: 0.5707 - accuracy: 0.6948 - val_loss: 0.5960 - val_accuracy: 0.7159\n",
      "Epoch 29/50\n",
      "301/301 [==============================] - 3s 9ms/step - loss: 0.5706 - accuracy: 0.6968 - val_loss: 0.5863 - val_accuracy: 0.7126\n",
      "Epoch 30/50\n",
      "301/301 [==============================] - 3s 9ms/step - loss: 0.5704 - accuracy: 0.6948 - val_loss: 0.5878 - val_accuracy: 0.7143\n",
      "Epoch 31/50\n",
      "301/301 [==============================] - 3s 9ms/step - loss: 0.5713 - accuracy: 0.6956 - val_loss: 0.5811 - val_accuracy: 0.7193\n",
      "Epoch 32/50\n",
      "301/301 [==============================] - 3s 9ms/step - loss: 0.5682 - accuracy: 0.6939 - val_loss: 0.5864 - val_accuracy: 0.7060\n",
      "Epoch 33/50\n",
      "301/301 [==============================] - 3s 9ms/step - loss: 0.5672 - accuracy: 0.6960 - val_loss: 0.5962 - val_accuracy: 0.7027\n",
      "Epoch 34/50\n",
      "301/301 [==============================] - 3s 9ms/step - loss: 0.5666 - accuracy: 0.6989 - val_loss: 0.5991 - val_accuracy: 0.7027\n",
      "Epoch 35/50\n",
      "301/301 [==============================] - 3s 9ms/step - loss: 0.5637 - accuracy: 0.6968 - val_loss: 0.5986 - val_accuracy: 0.7010\n",
      "Epoch 36/50\n",
      "301/301 [==============================] - 3s 9ms/step - loss: 0.5649 - accuracy: 0.7002 - val_loss: 0.5979 - val_accuracy: 0.7093\n",
      "Epoch 37/50\n",
      "301/301 [==============================] - 3s 9ms/step - loss: 0.5657 - accuracy: 0.6956 - val_loss: 0.6036 - val_accuracy: 0.7143\n"
     ]
    },
    {
     "data": {
      "image/png": "[encoded data removed]",
      "text/plain": [
       "<Figure size 432x288 with 1 Axes>"
      ]
     },
     "metadata": {
      "needs_background": "light"
     },
     "output_type": "display_data"
    },
    {
     "data": {
      "image/png": "[encoded data removed]",
      "text/plain": [
       "<Figure size 432x288 with 1 Axes>"
      ]
     },
     "metadata": {
      "needs_background": "light"
     },
     "output_type": "display_data"
    },
    {
     "data": {
      "text/plain": [
       "(<keras.callbacks.History at 0x167505640>,\n",
       " <keras.engine.functional.Functional at 0x167501fa0>)"
      ]
     },
     "execution_count": 3,
     "metadata": {},
     "output_type": "execute_result"
    }
   ],
   "source": [
    "callback = [\n",
    "    keras.callbacks.EarlyStopping(\n",
    "        monitor='val_accuracy',\n",
    "        patience=10,\n",
    "        restore_best_weights=True,\n",
    "    ),\n",
    "    keras.callbacks.ModelCheckpoint(\n",
    "        filepath='../models/best_feature_model.keras',\n",
    "        monitor='val_accuracy',\n",
    "        save_best_only=True,\n",
    "    ),\n",
    "]\n",
    "\n",
    "y = layers.Dense(256, activation=\"relu\")(feature_input)\n",
    "y = layers.Dropout(0.1)(y)\n",
    "y = layers.Dense(128, activation=\"relu\")(y)\n",
    "y = layers.Dense(64, activation=\"relu\")(y)\n",
    "y = layers.Dense(1, activation=\"sigmoid\")(y)\n",
    "\n",
    "helpers.run_model(\n",
    "    [feature_input],\n",
    "    y,\n",
    "    train_dataset,\n",
    "    val_dataset,\n",
    "    callback=callback,\n",
    "    epochs=50,\n",
    "    optimizer=keras.optimizers.RMSprop(learning_rate=0.0005),\n",
    ")"
   ]
  },
  {
   "cell_type": "markdown",
   "metadata": {},
   "source": [
    "<div style=\"font-size: 30px; padding:10px\">\n",
    "<h1>6.4 Model Evaluation</h1>\n",
    "</div>"
   ]
  },
  {
   "cell_type": "code",
   "execution_count": 4,
   "metadata": {},
   "outputs": [
    {
     "name": "stderr",
     "output_type": "stream",
     "text": [
      "2022-09-01 06:42:46.105850: I tensorflow/core/grappler/optimizers/custom_graph_optimizer_registry.cc:113] Plugin optimizer for device_type GPU is enabled.\n"
     ]
    },
    {
     "name": "stdout",
     "output_type": "stream",
     "text": [
      "126/126 [==============================] - 2s 5ms/step - loss: 0.5449 - accuracy: 0.7251\n"
     ]
    },
    {
     "data": {
      "text/plain": [
       "[0.5449432134628296, 0.7250996232032776]"
      ]
     },
     "execution_count": 4,
     "metadata": {},
     "output_type": "execute_result"
    }
   ],
   "source": [
    "# evaluate the model\n",
    "model = keras.models.load_model('../models/best_feature_model.keras')\n",
    "model.evaluate(test_dataset)"
   ]
  },
  {
   "cell_type": "markdown",
   "metadata": {},
   "source": [
    "<div style=\"font-size: 30px; padding:10px\">\n",
    "<h1>6.5 Summary</h1>\n",
    "\n",
    "<p>\n",
    "The accuracy on the test dataset achieved using this model is <code>72.51%</code>. This accuracy is significantly lower than the test accuracy found on the graph model <code>95.51%</code>. \n",
    "</p>\n",
    "\n",
    "</div>\n",
    "\n",
    "----\n",
    "\n",
    "\n",
    "<div style=\"text-align: center; font-size: 30px; font-weight: bold; padding:20px\">End of File</div>\n",
    "\n",
    "----"
   ]
  }
 ],
 "metadata": {
  "kernelspec": {
   "display_name": "Python 3.9.10 ('base')",
   "language": "python",
   "name": "python3"
  },
  "language_info": {
   "codemirror_mode": {
    "name": "ipython",
    "version": 3
   },
   "file_extension": ".py",
   "mimetype": "text/x-python",
   "name": "python",
   "nbconvert_exporter": "python",
   "pygments_lexer": "ipython3",
   "version": "3.9.10"
  },
  "orig_nbformat": 4,
  "vscode": {
   "interpreter": {
    "hash": "c6e4e9f98eb68ad3b7c296f83d20e6de614cb42e90992a65aa266555a3137d0d"
   }
  }
 },
 "nbformat": 4,
 "nbformat_minor": 2
}
