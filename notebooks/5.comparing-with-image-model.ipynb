{
 "cells": [
  {
   "cell_type": "markdown",
   "metadata": {},
   "source": [
    "<div style=\"text-align: center; font-size: 30px; font-weight: bold; padding:20px\">University of London: BSc Computer Science (Final Project)</div>\n",
    "<div style=\"text-align: center; font-size: 30px; margin-top: 10px;\">Using Neural Network based Graph Model for Alzhiemer's Classification</div>\n",
    "<br>\n",
    "<div style=\"text-align: center; font-size: 20px; margin-top: 10px;\">Pragya Modi</div>\n",
    "<div style=\"text-align: center; font-size: 20px; margin-top: 15px;\">190308090</div>"
   ]
  },
  {
   "cell_type": "markdown",
   "metadata": {},
   "source": [
    "<div style=\"font-size: 70px; font-weight: bold; border-bottom: 6px solid black; padding-bottom:20px \">5. Comparing with the Image Model</div>\n",
    "\n",
    "\n",
    "<div style=\"font-size: 30px; padding:10px\">\n",
    "<h1>5.1 Overview</h1>\n",
    "\n",
    "<p>\n",
    "The aim of this research is to build a multi-input deep learning graph model to classify for Alzhiemers. The main model takes MRI Scans and patient demographics as an input to provide a prediction. \n",
    "</p>\n",
    "\n",
    "<p>\n",
    "Since more of the past studies focus on using only MRI scans, this section compares the graph model built with a model built using only the image node of the graph model. This comparision is helpful in understanding whether a multi-input model is neccessary to classify for Alzhiemer's. \n",
    "</p>\n",
    "</div>\n"
   ]
  },
  {
   "cell_type": "markdown",
   "metadata": {},
   "source": [
    "<div style=\"font-size: 30px; padding:10px\">\n",
    "<h1>5.2 Splitting the Data</h1>\n",
    "</div>"
   ]
  },
  {
   "cell_type": "code",
   "execution_count": 1,
   "metadata": {},
   "outputs": [],
   "source": [
    "import tensorflow as tf\n",
    "from tensorflow.keras import layers, utils\n",
    "from matplotlib import pyplot as plt\n",
    "import os, shutil, pathlib\n",
    "from tensorflow import keras\n",
    "import numpy as np\n",
    "\n",
    "import helpers"
   ]
  },
  {
   "cell_type": "code",
   "execution_count": 2,
   "metadata": {},
   "outputs": [
    {
     "name": "stderr",
     "output_type": "stream",
     "text": [
      "2022-09-01 05:23:31.658174: I tensorflow/core/common_runtime/pluggable_device/pluggable_device_factory.cc:305] Could not identify NUMA node of platform GPU ID 0, defaulting to 0. Your kernel may not have been built with NUMA support.\n",
      "2022-09-01 05:23:31.658281: I tensorflow/core/common_runtime/pluggable_device/pluggable_device_factory.cc:271] Created TensorFlow device (/job:localhost/replica:0/task:0/device:GPU:0 with 0 MB memory) -> physical PluggableDevice (device: 0, name: METAL, pci bus id: <undefined>)\n",
      "2022-09-01 05:23:31.673697: W tensorflow/core/platform/profile_utils/cpu_utils.cc:128] Failed to get CPU frequency: 0 Hz\n"
     ]
    },
    {
     "name": "stdout",
     "output_type": "stream",
     "text": [
      "Metal device set to: Apple M1 Pro\n",
      "\n",
      "systemMemory: 16.00 GB\n",
      "maxCacheSize: 5.33 GB\n",
      "\n",
      "4014\n"
     ]
    }
   ],
   "source": [
    "# load the tensorflow dataset\n",
    "dataset = tf.data.experimental.load('../data/tfdataset/final_dataset.tfrecords.gz', compression='GZIP')\n",
    "\n",
    "# print the size of the dataset\n",
    "dataset_size = 0\n",
    "for _ in dataset: dataset_size += 1\n",
    "print(dataset_size)\n",
    "\n",
    "dataset = dataset.map(lambda x, y: (x['images'], y))\n",
    "\n",
    "# define the train, val, and test split ratios\n",
    "train_size = int(0.6 * dataset_size)\n",
    "val_size = int(0.15 * dataset_size)\n",
    "\n",
    "# shuffle the dataset\n",
    "dataset = dataset.shuffle(buffer_size=dataset_size)\n",
    "\n",
    "# use the helper function to split the dataset\n",
    "train_dataset, val_dataset, test_dataset = helpers.split_data(dataset, train_size, val_size)\n",
    "\n",
    "image_input = keras.Input(shape=(128, 128, 1))"
   ]
  },
  {
   "cell_type": "markdown",
   "metadata": {},
   "source": [
    "<div style=\"font-size: 30px; padding:10px\">\n",
    "<h1>5.3 Model</h1>\n",
    "</div>"
   ]
  },
  {
   "cell_type": "code",
   "execution_count": 3,
   "metadata": {},
   "outputs": [
    {
     "name": "stdout",
     "output_type": "stream",
     "text": [
      "Model: \"model\"\n",
      "_________________________________________________________________\n",
      " Layer (type)                Output Shape              Param #   \n",
      "=================================================================\n",
      " input_1 (InputLayer)        [(None, 128, 128, 1)]     0         \n",
      "                                                                 \n",
      " conv2d (Conv2D)             (None, 126, 126, 32)      320       \n",
      "                                                                 \n",
      " max_pooling2d (MaxPooling2D  (None, 63, 63, 32)       0         \n",
      " )                                                               \n",
      "                                                                 \n",
      " conv2d_1 (Conv2D)           (None, 61, 61, 64)        18496     \n",
      "                                                                 \n",
      " max_pooling2d_1 (MaxPooling  (None, 30, 30, 64)       0         \n",
      " 2D)                                                             \n",
      "                                                                 \n",
      " conv2d_2 (Conv2D)           (None, 28, 28, 128)       73856     \n",
      "                                                                 \n",
      " max_pooling2d_2 (MaxPooling  (None, 14, 14, 128)      0         \n",
      " 2D)                                                             \n",
      "                                                                 \n",
      " conv2d_3 (Conv2D)           (None, 12, 12, 256)       295168    \n",
      "                                                                 \n",
      " max_pooling2d_3 (MaxPooling  (None, 6, 6, 256)        0         \n",
      " 2D)                                                             \n",
      "                                                                 \n",
      " conv2d_4 (Conv2D)           (None, 4, 4, 512)         1180160   \n",
      "                                                                 \n",
      " global_max_pooling2d (Globa  (None, 512)              0         \n",
      " lMaxPooling2D)                                                  \n",
      "                                                                 \n",
      " dense (Dense)               (None, 256)               131328    \n",
      "                                                                 \n",
      " dropout (Dropout)           (None, 256)               0         \n",
      "                                                                 \n",
      " dense_1 (Dense)             (None, 128)               32896     \n",
      "                                                                 \n",
      " dense_2 (Dense)             (None, 1)                 129       \n",
      "                                                                 \n",
      "=================================================================\n",
      "Total params: 1,732,353\n",
      "Trainable params: 1,732,353\n",
      "Non-trainable params: 0\n",
      "_________________________________________________________________\n",
      "Epoch 1/50\n"
     ]
    },
    {
     "name": "stderr",
     "output_type": "stream",
     "text": [
      "2022-09-01 05:23:33.282964: I tensorflow/core/grappler/optimizers/custom_graph_optimizer_registry.cc:113] Plugin optimizer for device_type GPU is enabled.\n"
     ]
    },
    {
     "name": "stdout",
     "output_type": "stream",
     "text": [
      "301/301 [==============================] - ETA: 0s - loss: 0.9059 - accuracy: 0.5361"
     ]
    },
    {
     "name": "stderr",
     "output_type": "stream",
     "text": [
      "2022-09-01 05:23:40.588142: I tensorflow/core/grappler/optimizers/custom_graph_optimizer_registry.cc:113] Plugin optimizer for device_type GPU is enabled.\n"
     ]
    },
    {
     "name": "stdout",
     "output_type": "stream",
     "text": [
      "301/301 [==============================] - 9s 25ms/step - loss: 0.9059 - accuracy: 0.5361 - val_loss: 0.7098 - val_accuracy: 0.5914\n",
      "Epoch 2/50\n",
      "301/301 [==============================] - 6s 21ms/step - loss: 0.6951 - accuracy: 0.5664 - val_loss: 0.7869 - val_accuracy: 0.5914\n",
      "Epoch 3/50\n",
      "301/301 [==============================] - 6s 19ms/step - loss: 0.6925 - accuracy: 0.5673 - val_loss: 0.8207 - val_accuracy: 0.6063\n",
      "Epoch 4/50\n",
      "301/301 [==============================] - 6s 21ms/step - loss: 0.6826 - accuracy: 0.5731 - val_loss: 0.7612 - val_accuracy: 0.6362\n",
      "Epoch 5/50\n",
      "301/301 [==============================] - 6s 20ms/step - loss: 0.6559 - accuracy: 0.6042 - val_loss: 0.7927 - val_accuracy: 0.6395\n",
      "Epoch 6/50\n",
      "301/301 [==============================] - 6s 20ms/step - loss: 0.6080 - accuracy: 0.6640 - val_loss: 1.1685 - val_accuracy: 0.6130\n",
      "Epoch 7/50\n",
      "301/301 [==============================] - 6s 19ms/step - loss: 0.5602 - accuracy: 0.7180 - val_loss: 0.8267 - val_accuracy: 0.6728\n",
      "Epoch 8/50\n",
      "301/301 [==============================] - 6s 20ms/step - loss: 0.4996 - accuracy: 0.7612 - val_loss: 0.7346 - val_accuracy: 0.7508\n",
      "Epoch 9/50\n",
      "301/301 [==============================] - 6s 20ms/step - loss: 0.4383 - accuracy: 0.8011 - val_loss: 0.8653 - val_accuracy: 0.7774\n",
      "Epoch 10/50\n",
      "301/301 [==============================] - 6s 20ms/step - loss: 0.3757 - accuracy: 0.8376 - val_loss: 0.9371 - val_accuracy: 0.8156\n",
      "Epoch 11/50\n",
      "301/301 [==============================] - 6s 20ms/step - loss: 0.3156 - accuracy: 0.8846 - val_loss: 0.5121 - val_accuracy: 0.8621\n",
      "Epoch 12/50\n",
      "301/301 [==============================] - 6s 21ms/step - loss: 0.2779 - accuracy: 0.8953 - val_loss: 0.7841 - val_accuracy: 0.8671\n",
      "Epoch 13/50\n",
      "301/301 [==============================] - 6s 20ms/step - loss: 0.2546 - accuracy: 0.9103 - val_loss: 0.7559 - val_accuracy: 0.8754\n",
      "Epoch 14/50\n",
      "301/301 [==============================] - 6s 20ms/step - loss: 0.2190 - accuracy: 0.9265 - val_loss: 0.5709 - val_accuracy: 0.8738\n",
      "Epoch 15/50\n",
      "301/301 [==============================] - 6s 20ms/step - loss: 0.2227 - accuracy: 0.9298 - val_loss: 0.5548 - val_accuracy: 0.8953\n",
      "Epoch 16/50\n",
      "301/301 [==============================] - 6s 19ms/step - loss: 0.2051 - accuracy: 0.9473 - val_loss: 1.9976 - val_accuracy: 0.8023\n",
      "Epoch 17/50\n",
      "301/301 [==============================] - 6s 19ms/step - loss: 0.2225 - accuracy: 0.9394 - val_loss: 1.0157 - val_accuracy: 0.8870\n",
      "Epoch 18/50\n",
      "301/301 [==============================] - 6s 19ms/step - loss: 0.1722 - accuracy: 0.9539 - val_loss: 0.9121 - val_accuracy: 0.8887\n",
      "Epoch 19/50\n",
      "301/301 [==============================] - 6s 19ms/step - loss: 0.1777 - accuracy: 0.9489 - val_loss: 2.4742 - val_accuracy: 0.7907\n",
      "Epoch 20/50\n",
      "301/301 [==============================] - 6s 20ms/step - loss: 0.1721 - accuracy: 0.9535 - val_loss: 0.7095 - val_accuracy: 0.9302\n",
      "Epoch 21/50\n",
      "301/301 [==============================] - 6s 19ms/step - loss: 0.2025 - accuracy: 0.9572 - val_loss: 0.5196 - val_accuracy: 0.8887\n",
      "Epoch 22/50\n",
      "301/301 [==============================] - 6s 19ms/step - loss: 0.1988 - accuracy: 0.9564 - val_loss: 0.7723 - val_accuracy: 0.9186\n",
      "Epoch 23/50\n",
      "301/301 [==============================] - 6s 20ms/step - loss: 0.1625 - accuracy: 0.9589 - val_loss: 1.1059 - val_accuracy: 0.9037\n",
      "Epoch 24/50\n",
      "301/301 [==============================] - 6s 20ms/step - loss: 0.1563 - accuracy: 0.9614 - val_loss: 0.9072 - val_accuracy: 0.9153\n",
      "Epoch 25/50\n",
      "301/301 [==============================] - 6s 20ms/step - loss: 0.1593 - accuracy: 0.9668 - val_loss: 1.4393 - val_accuracy: 0.9003\n",
      "Epoch 26/50\n",
      "301/301 [==============================] - 6s 20ms/step - loss: 0.1920 - accuracy: 0.9639 - val_loss: 1.1085 - val_accuracy: 0.9203\n",
      "Epoch 27/50\n",
      "301/301 [==============================] - 6s 19ms/step - loss: 0.2815 - accuracy: 0.9585 - val_loss: 1.4287 - val_accuracy: 0.8771\n",
      "Epoch 28/50\n",
      "301/301 [==============================] - 6s 20ms/step - loss: 0.1610 - accuracy: 0.9697 - val_loss: 1.0469 - val_accuracy: 0.9153\n",
      "Epoch 29/50\n",
      "301/301 [==============================] - 6s 20ms/step - loss: 0.2034 - accuracy: 0.9630 - val_loss: 1.2521 - val_accuracy: 0.8821\n",
      "Epoch 30/50\n",
      "301/301 [==============================] - 6s 19ms/step - loss: 0.1531 - accuracy: 0.9639 - val_loss: 1.1694 - val_accuracy: 0.8854\n"
     ]
    },
    {
     "data": {
      "image/png": "[encoded data removed]",
      "text/plain": [
       "<Figure size 432x288 with 1 Axes>"
      ]
     },
     "metadata": {
      "needs_background": "light"
     },
     "output_type": "display_data"
    },
    {
     "data": {
      "image/png": "[encoded data removed]",
      "text/plain": [
       "<Figure size 432x288 with 1 Axes>"
      ]
     },
     "metadata": {
      "needs_background": "light"
     },
     "output_type": "display_data"
    },
    {
     "data": {
      "text/plain": [
       "(<keras.callbacks.History at 0x1645552b0>,\n",
       " <keras.engine.functional.Functional at 0x164520f70>)"
      ]
     },
     "execution_count": 3,
     "metadata": {},
     "output_type": "execute_result"
    }
   ],
   "source": [
    "callback = [\n",
    "    keras.callbacks.EarlyStopping(\n",
    "        monitor='val_accuracy',\n",
    "        patience=10,\n",
    "        restore_best_weights=True,\n",
    "    ),\n",
    "    keras.callbacks.ModelCheckpoint(\n",
    "        filepath='../models/best_image_model.keras',\n",
    "        monitor='val_accuracy',\n",
    "        save_best_only=True,\n",
    "    )\n",
    "]\n",
    "\n",
    "x = layers.Conv2D(filters=32, kernel_size=3, activation=\"relu\")(image_input)\n",
    "x = layers.MaxPooling2D(pool_size=2)(x)\n",
    "x = layers.Conv2D(filters=64, kernel_size=3, activation=\"relu\")(x)\n",
    "x = layers.MaxPooling2D(pool_size=2)(x)\n",
    "x = layers.Conv2D(filters=128, kernel_size=3, activation=\"relu\")(x)\n",
    "x = layers.MaxPooling2D(pool_size=2)(x)\n",
    "x = layers.Conv2D(filters=256, kernel_size=3, activation=\"relu\")(x)\n",
    "x = layers.MaxPooling2D(pool_size=2)(x)\n",
    "x = layers.Conv2D(filters=512, kernel_size=3, activation=\"relu\")(x)\n",
    "x = layers.GlobalMaxPooling2D()(x)\n",
    "x = layers.Dense(256, activation=\"relu\")(x)\n",
    "x = layers.Dropout(0.1)(x)\n",
    "x = layers.Dense(128, activation=\"relu\")(x)\n",
    "x = layers.Dense(1, activation=\"sigmoid\")(x)\n",
    "\n",
    "helpers.run_model(\n",
    "    [image_input],\n",
    "    x,\n",
    "    train_dataset,\n",
    "    val_dataset,\n",
    "    callback=callback,\n",
    "    epochs=50,\n",
    "    optimizer=keras.optimizers.RMSprop(learning_rate=0.0005),\n",
    ")"
   ]
  },
  {
   "cell_type": "markdown",
   "metadata": {},
   "source": [
    "<div style=\"font-size: 30px; padding:10px\">\n",
    "<h1>5.4 Model Evaluation</h1>\n",
    "</div>"
   ]
  },
  {
   "cell_type": "code",
   "execution_count": 4,
   "metadata": {},
   "outputs": [
    {
     "name": "stderr",
     "output_type": "stream",
     "text": [
      "2022-09-01 05:26:35.453717: I tensorflow/core/grappler/optimizers/custom_graph_optimizer_registry.cc:113] Plugin optimizer for device_type GPU is enabled.\n"
     ]
    },
    {
     "name": "stdout",
     "output_type": "stream",
     "text": [
      "126/126 [==============================] - 2s 6ms/step - loss: 0.9429 - accuracy: 0.9133\n"
     ]
    },
    {
     "data": {
      "text/plain": [
       "[0.9428961277008057, 0.9133466482162476]"
      ]
     },
     "execution_count": 4,
     "metadata": {},
     "output_type": "execute_result"
    }
   ],
   "source": [
    "model = keras.models.load_model('../models/best_image_model.keras')\n",
    "model.evaluate(test_dataset)"
   ]
  },
  {
   "cell_type": "markdown",
   "metadata": {},
   "source": [
    "<div style=\"font-size: 30px; padding:10px\">\n",
    "<h1>5.5 Summary</h1>\n",
    "\n",
    "<p>\n",
    "The accuracy on the test dataset achieved using this model is <code>91.33%</code>. This accuracy is significantly lower than the test accuracy found on the graph model <code>95.51%</code>. \n",
    "</p>\n",
    "\n",
    "</div>\n",
    "\n",
    "----\n",
    "\n",
    "<div style=\"text-align: center; font-size: 30px; font-weight: bold; padding:20px\">End of File</div>\n",
    "\n",
    "----"
   ]
  }
 ],
 "metadata": {
  "kernelspec": {
   "display_name": "Python 3.9.10 ('base')",
   "language": "python",
   "name": "python3"
  },
  "language_info": {
   "codemirror_mode": {
    "name": "ipython",
    "version": 3
   },
   "file_extension": ".py",
   "mimetype": "text/x-python",
   "name": "python",
   "nbconvert_exporter": "python",
   "pygments_lexer": "ipython3",
   "version": "3.9.10"
  },
  "orig_nbformat": 4,
  "vscode": {
   "interpreter": {
    "hash": "c6e4e9f98eb68ad3b7c296f83d20e6de614cb42e90992a65aa266555a3137d0d"
   }
  }
 },
 "nbformat": 4,
 "nbformat_minor": 2
}
